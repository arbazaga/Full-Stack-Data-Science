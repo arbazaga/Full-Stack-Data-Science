{
 "cells": [
  {
   "cell_type": "markdown",
   "id": "d3d47cb9-041c-4be3-8674-0aa06562cd57",
   "metadata": {},
   "source": [
    "**Assignment 7**\n",
    "\n",
    "*1. What is the name of the feature responsible for generating Regex objects?*\n",
    "\n",
    "re.compile() function returns regex objects.\n",
    "\n",
    "Example:"
   ]
  },
  {
   "cell_type": "code",
   "execution_count": 1,
   "id": "e6899d2b-5eeb-46d1-a1c7-bf0fb021cae4",
   "metadata": {},
   "outputs": [
    {
     "data": {
      "text/plain": [
       "re.compile(r'Hi, my name is Raj from India', re.UNICODE)"
      ]
     },
     "execution_count": 1,
     "metadata": {},
     "output_type": "execute_result"
    }
   ],
   "source": [
    "import re\n",
    "a = re.compile(\"Hi, my name is Raj from India\")\n",
    "a"
   ]
  },
  {
   "cell_type": "markdown",
   "id": "1f4488b1-7480-4bcb-a8f5-c9e6eaf2c4ca",
   "metadata": {},
   "source": [
    "*2. Why do raw strings often appear in Regex objects?*\n",
    "\n",
    "As backslash is not escaped, when we use raw strings\n",
    "\n",
    "Example:"
   ]
  },
  {
   "cell_type": "code",
   "execution_count": 2,
   "id": "f4b35997-9264-4f68-a911-16f0dd9d94c8",
   "metadata": {},
   "outputs": [
    {
     "name": "stdout",
     "output_type": "stream",
     "text": [
      "\n",
      "This is a \\nraw string\n",
      "This is not a \n",
      " raw string\n",
      "\n"
     ]
    }
   ],
   "source": [
    "a = r'This is a \\nraw string'        #It prints as it is and \\ is not escaped\n",
    "b = 'This is not a \\n raw string'    #\\n is treated as newline\n",
    "print(f\"\"\"\n",
    "{a}\n",
    "{b}\n",
    "\"\"\")"
   ]
  },
  {
   "cell_type": "markdown",
   "id": "6097181f-635b-48de-bf94-30d15f2329a4",
   "metadata": {},
   "source": [
    "*3. What is the return value of the search() method?*\n",
    "\n",
    "It is used to search a string for a specified pattern of value and in return gives the position of the pattern values in the string.\n",
    "\n",
    "Example:"
   ]
  },
  {
   "cell_type": "code",
   "execution_count": 6,
   "id": "7432e4d5-bf6d-4cea-9443-0066ddd33679",
   "metadata": {},
   "outputs": [
    {
     "data": {
      "text/plain": [
       "<re.Match object; span=(37, 52), match='specified value'>"
      ]
     },
     "execution_count": 6,
     "metadata": {},
     "output_type": "execute_result"
    }
   ],
   "source": [
    "string = \"This is a long string which includes specified value pattern\"\n",
    "import re\n",
    "re.search(\"specified value\",string)"
   ]
  },
  {
   "cell_type": "markdown",
   "id": "01cc75aa-2747-4fd2-b64b-d7b51a8c0e0c",
   "metadata": {},
   "source": [
    "*4. From a Match item, how do you get the actual strings that match the pattern?*\n",
    "\n",
    "group() method is used to get the actual strings that match the pattern\n",
    "\n",
    "Example:"
   ]
  },
  {
   "cell_type": "code",
   "execution_count": 21,
   "id": "591723aa-ed16-4134-acf0-7ce203f51eee",
   "metadata": {},
   "outputs": [
    {
     "name": "stdout",
     "output_type": "stream",
     "text": [
      "User cell number is: +91-7894523456\n"
     ]
    }
   ],
   "source": [
    "cellno = re.compile(r'[+]?\\d{2}[-]?\\d{10}')\n",
    "cellnomatch = cellno.search(r'You can call me on +91-7894523456')\n",
    "print('User cell number is: ' + cellnomatch.group())"
   ]
  },
  {
   "cell_type": "markdown",
   "id": "066cfb6d-bc87-4b8f-9fd0-815b5c7199ec",
   "metadata": {},
   "source": [
    "*5. In the regex which created from the r'(\\d\\d\\d)-(\\d\\d\\d-\\d\\d\\d\\d)', what does group zero cover?\n",
    "Group 2? Group 1?*\n",
    "\n",
    "Group 0 includes the entire match pattern, 1 includes first group of 3 digits in the first set of parenthesis and 2 includes second set of parenthesis of 3 and 4 digits with a hypen between them\n",
    "\n",
    "Example:"
   ]
  },
  {
   "cell_type": "code",
   "execution_count": 7,
   "id": "2cbe7cdd-aa1b-4f50-9557-1b377e374752",
   "metadata": {},
   "outputs": [
    {
     "data": {
      "text/plain": [
       "'285-456-7324'"
      ]
     },
     "execution_count": 7,
     "metadata": {},
     "output_type": "execute_result"
    }
   ],
   "source": [
    "data = re.compile(r'(\\d\\d\\d)-(\\d\\d\\d-\\d\\d\\d\\d)')\n",
    "groupdata = data.search(r'You can contact me on 285-456-7324')\n",
    "groupdata.group(0)"
   ]
  },
  {
   "cell_type": "code",
   "execution_count": 8,
   "id": "f046121c-aed5-4ccc-885b-bc4dc728e504",
   "metadata": {},
   "outputs": [
    {
     "data": {
      "text/plain": [
       "'285'"
      ]
     },
     "execution_count": 8,
     "metadata": {},
     "output_type": "execute_result"
    }
   ],
   "source": [
    "groupdata.group(1)"
   ]
  },
  {
   "cell_type": "code",
   "execution_count": 9,
   "id": "353cddc6-d2ce-4332-9363-170cb34ee9b4",
   "metadata": {},
   "outputs": [
    {
     "data": {
      "text/plain": [
       "'456-7324'"
      ]
     },
     "execution_count": 9,
     "metadata": {},
     "output_type": "execute_result"
    }
   ],
   "source": [
    "groupdata.group(2)"
   ]
  },
  {
   "cell_type": "markdown",
   "id": "25d64bbf-ea1c-45dd-858d-dfc2e3cf5c10",
   "metadata": {},
   "source": [
    "*6. In standard expression syntax, parentheses and intervals have distinct meanings. How can you tell\n",
    "a regex that you want it to fit real parentheses and periods?*\n",
    "\n",
    "With a backslash, so that it could be escaped\n",
    "\n",
    "*7. The findall() method returns a string list or a list of string tuples. What causes it to return one of\n",
    "the two options?*\n",
    "\n",
    "When the regular expression has no groups, a list of strings is returned. If the regular expression has groups, a list of tuples of strings is returned.\n",
    "\n",
    "Example:"
   ]
  },
  {
   "cell_type": "code",
   "execution_count": 25,
   "id": "95acab5b-2572-4368-b5a1-c8c13c3c72d5",
   "metadata": {},
   "outputs": [
    {
     "name": "stdout",
     "output_type": "stream",
     "text": [
      "['17', '1995', '2', '307', '1999', '2000', '2002', '1', '5']\n"
     ]
    }
   ],
   "source": [
    "string = \"\"\"Musk was born and grew up in Pretoria, South Africa. He attended the University of Pretoria before moving to Canada at age 17, acquiring citizenship through his Canadian-born mother. Two years later, he matriculated at Queen's University and transferred to the University of Pennsylvania, where he received bachelor's degrees in economics and physics. He moved to California in 1995 to attend Stanford University, but dropped out after two days to pursue a business career, co-founding the web software company Zip2 with his brother Kimbal; the startup was acquired by Compaq for $307 million in 1999. The same year, Musk co-founded the online bank X.com, which merged with Confinity in 2000 to form PayPal. eBay bought PayPal in 2002 for $1.5 billion.\"\"\"\n",
    "\n",
    "regex = '\\d+'             \n",
    "    \n",
    "match = re.findall(regex, string) \n",
    "print(match) "
   ]
  },
  {
   "cell_type": "code",
   "execution_count": 7,
   "id": "ea4646e2-b193-48b0-be0c-ab43b9abf4a4",
   "metadata": {},
   "outputs": [
    {
     "name": "stdout",
     "output_type": "stream",
     "text": [
      "[('', 'ttended'), ('', 'versity'), ('', 'retoria'), ('17', ''), ('', 'quiring'), ('', 'zenship'), ('', 'through'), ('', 'culated'), ('', 'versity'), ('', 'sferred'), ('', 'versity'), ('', 'eceived'), ('', 'degrees'), ('', 'onomics'), ('', 'ifornia'), ('1995', ''), ('', 'tanford'), ('', 'dropped'), ('', 'usiness'), ('', 'ounding'), ('', 'oftware'), ('', 'company'), ('2', ''), ('', 'brother'), ('', 'startup'), ('', 'cquired'), ('307', ''), ('', 'million'), ('1999', ''), ('', 'founded'), ('', 'nfinity'), ('2000', ''), ('2002', ''), ('1', ''), ('5', '')]\n"
     ]
    }
   ],
   "source": [
    "import re\n",
    "string = \"\"\"Musk was born and grew up in Pretoria, South Africa. He attended the University of Pretoria before moving to Canada at age 17, acquiring citizenship through his Canadian-born mother. Two years later, he matriculated at Queen's University and transferred to the University of Pennsylvania, where he received bachelor's degrees in economics and physics. He moved to California in 1995 to attend Stanford University, but dropped out after two days to pursue a business career, co-founding the web software company Zip2 with his brother Kimbal; the startup was acquired by Compaq for $307 million in 1999. The same year, Musk co-founded the online bank X.com, which merged with Confinity in 2000 to form PayPal. eBay bought PayPal in 2002 for $1.5 billion.\"\"\"\n",
    "\n",
    "regex = '(\\d+)|([a-z]{7}) '    \n",
    "\n",
    "#the regex has 2 groups\n",
    "match = re.findall(regex, string) \n",
    "print(match) "
   ]
  },
  {
   "cell_type": "markdown",
   "id": "895d1978-0683-49a1-8f31-49da7f901349",
   "metadata": {},
   "source": [
    "*8. In standard expressions, what does the | character mean?*\n",
    "\n",
    "It means either the pattern of the first group or the other.\n",
    "\n",
    "*9. In regular expressions, what does the character stand for?*\n",
    "\n",
    "It is used to denote that the preceding character may or may not be present in the string to be matched\n",
    "\n",
    "*10. In regular expressions, what is the difference between the + and * characters?*\n",
    "\n",
    "\"+\" is used to denote that the preceding character (or set of characters) for atleast one or more times(upto infinite)\n",
    "\n",
    "\"\\*\" s used to denote that the preceding character (or set of characters) for 0 or more times (upto infinite)\n",
    "\n",
    "*11. What is the difference between {4} and {4,5} in regular expression?*\n",
    "\n",
    "By {4}, we mean the preceding group should exactly occur 4 times and {4,5} means the preceding group should  occur between 4 to 5 times.\n",
    "\n",
    "*12. What do you mean by the \\d, \\w, and \\s shorthand character classes signify in regular\n",
    "expressions?*\n",
    "\n",
    "\\d shorthand character class is used to denote any single digit between 0 to 9\n",
    "\n",
    "\\w is used to denote any single word character that could be a-z, A-Z, 0-9, including \"_\"\n",
    "\n",
    "\\s is used to denote a space character \" \"\n",
    "\n",
    "*13. What do means by \\D, \\W, and \\S shorthand character classes signify in regular expressions?*\n",
    "\n",
    "\\D shorthand character class is used to denote any character that is not a single digit between 0 to 9\n",
    "\n",
    "\\W is used to denote any single character that could be not a-z, A-Z, 0-9, including \"_\"\n",
    "\n",
    "\\S is used to denote a character that is not a space character\n",
    "\n",
    "*14. What is the difference between \".\\*\" and \".\\*?\"*\n",
    "\n",
    "\".\\*\" tries to match any character \".\" as many times possible \"\\*\"\n",
    "\n",
    "\".\\*? tries to match any character \".\" as many times possible \"\\*\" but includes space as well as \"?\" denotes zero or one occurrences\n",
    "\n",
    "*15. What is the syntax for matching both numbers and lowercase letters with a character class?*\n",
    "\n",
    "[0-9a-z] OR [a-z0-9] could be used\n",
    "\n",
    "Example:"
   ]
  },
  {
   "cell_type": "code",
   "execution_count": 37,
   "id": "3ddf2df5-c33b-4532-bdae-066afe9c37e5",
   "metadata": {},
   "outputs": [
    {
     "name": "stdout",
     "output_type": "stream",
     "text": [
      "['u', 's', 'k', 'w', 'a', 's', 'b', 'o', 'r', 'n', 'a', 'n', 'd', 'g', 'r', 'e', 'w', 'u', 'p', 'i', 'n', 'r', 'e', 't', 'o', 'r', 'i', 'a', 'o', 'u', 't', 'h', 'f', 'r', 'i', 'c', 'a', 'e', 'a', 't', 't', 'e', 'n', 'd', 'e', 'd', 't', 'h', 'e', 'n', 'i', 'v', 'e', 'r', 's', 'i', 't', 'y', 'o', 'f', 'r', 'e', 't', 'o', 'r', 'i', 'a', 'b', 'e', 'f', 'o', 'r', 'e', 'm', 'o', 'v', 'i', 'n', 'g', 't', 'o', 'a', 'n', 'a', 'd', 'a', 'a', 't', 'a', 'g', 'e', '1', '7', 'a', 'c', 'q', 'u', 'i', 'r', 'i', 'n', 'g', 'c', 'i', 't', 'i', 'z', 'e', 'n', 's', 'h', 'i', 'p', 't', 'h', 'r', 'o', 'u', 'g', 'h', 'h', 'i', 's', 'a', 'n', 'a', 'd', 'i', 'a', 'n', 'b', 'o', 'r', 'n', 'm', 'o', 't', 'h', 'e', 'r', 'w', 'o', 'y', 'e', 'a', 'r', 's', 'l', 'a', 't', 'e', 'r', 'h', 'e', 'm', 'a', 't', 'r', 'i', 'c', 'u', 'l', 'a', 't', 'e', 'd', 'a', 't', 'u', 'e', 'e', 'n', 's', 'n', 'i', 'v', 'e', 'r', 's', 'i', 't', 'y', 'a', 'n', 'd', 't', 'r', 'a', 'n', 's', 'f', 'e', 'r', 'r', 'e', 'd', 't', 'o', 't', 'h', 'e', 'n', 'i', 'v', 'e', 'r', 's', 'i', 't', 'y', 'o', 'f', 'e', 'n', 'n', 's', 'y', 'l', 'v', 'a', 'n', 'i', 'a', 'w', 'h', 'e', 'r', 'e', 'h', 'e', 'r', 'e', 'c', 'e', 'i', 'v', 'e', 'd', 'b', 'a', 'c', 'h', 'e', 'l', 'o', 'r', 's', 'd', 'e', 'g', 'r', 'e', 'e', 's', 'i', 'n', 'e', 'c', 'o', 'n', 'o', 'm', 'i', 'c', 's', 'a', 'n', 'd', 'p', 'h', 'y', 's', 'i', 'c', 's', 'e', 'm', 'o', 'v', 'e', 'd', 't', 'o', 'a', 'l', 'i', 'f', 'o', 'r', 'n', 'i', 'a', 'i', 'n', '1', '9', '9', '5', 't', 'o', 'a', 't', 't', 'e', 'n', 'd', 't', 'a', 'n', 'f', 'o', 'r', 'd', 'n', 'i', 'v', 'e', 'r', 's', 'i', 't', 'y', 'b', 'u', 't', 'd', 'r', 'o', 'p', 'p', 'e', 'd', 'o', 'u', 't', 'a', 'f', 't', 'e', 'r', 't', 'w', 'o', 'd', 'a', 'y', 's', 't', 'o', 'p', 'u', 'r', 's', 'u', 'e', 'a', 'b', 'u', 's', 'i', 'n', 'e', 's', 's', 'c', 'a', 'r', 'e', 'e', 'r', 'c', 'o', 'f', 'o', 'u', 'n', 'd', 'i', 'n', 'g', 't', 'h', 'e', 'w', 'e', 'b', 's', 'o', 'f', 't', 'w', 'a', 'r', 'e', 'c', 'o', 'm', 'p', 'a', 'n', 'y', 'i', 'p', '2', 'w', 'i', 't', 'h', 'h', 'i', 's', 'b', 'r', 'o', 't', 'h', 'e', 'r', 'i', 'm', 'b', 'a', 'l', 't', 'h', 'e', 's', 't', 'a', 'r', 't', 'u', 'p', 'w', 'a', 's', 'a', 'c', 'q', 'u', 'i', 'r', 'e', 'd', 'b', 'y', 'o', 'm', 'p', 'a', 'q', 'f', 'o', 'r', '3', '0', '7', 'm', 'i', 'l', 'l', 'i', 'o', 'n', 'i', 'n', '1', '9', '9', '9', 'h', 'e', 's', 'a', 'm', 'e', 'y', 'e', 'a', 'r', 'u', 's', 'k', 'c', 'o', 'f', 'o', 'u', 'n', 'd', 'e', 'd', 't', 'h', 'e', 'o', 'n', 'l', 'i', 'n', 'e', 'b', 'a', 'n', 'k', 'c', 'o', 'm', 'w', 'h', 'i', 'c', 'h', 'm', 'e', 'r', 'g', 'e', 'd', 'w', 'i', 't', 'h', 'o', 'n', 'f', 'i', 'n', 'i', 't', 'y', 'i', 'n', '2', '0', '0', '0', 't', 'o', 'f', 'o', 'r', 'm', 'a', 'y', 'a', 'l', 'e', 'a', 'y', 'b', 'o', 'u', 'g', 'h', 't', 'a', 'y', 'a', 'l', 'i', 'n', '2', '0', '0', '2', 'f', 'o', 'r', '1', '5', 'b', 'i', 'l', 'l', 'i', 'o', 'n']\n"
     ]
    }
   ],
   "source": [
    "import re\n",
    "string = \"\"\"Musk was born and grew up in Pretoria, South Africa. He attended the University of Pretoria before moving to Canada at age 17, acquiring citizenship through his Canadian-born mother. Two years later, he matriculated at Queen's University and transferred to the University of Pennsylvania, where he received bachelor's degrees in economics and physics. He moved to California in 1995 to attend Stanford University, but dropped out after two days to pursue a business career, co-founding the web software company Zip2 with his brother Kimbal; the startup was acquired by Compaq for $307 million in 1999. The same year, Musk co-founded the online bank X.com, which merged with Confinity in 2000 to form PayPal. eBay bought PayPal in 2002 for $1.5 billion.\"\"\"\n",
    "\n",
    "regex = '[0-9a-z]'    \n",
    "\n",
    "#the regex has 2 groups\n",
    "match = re.findall(regex, string) \n",
    "print(match) "
   ]
  },
  {
   "cell_type": "code",
   "execution_count": 38,
   "id": "b37c030a-47da-4b60-ad01-eb1c0693272c",
   "metadata": {},
   "outputs": [
    {
     "name": "stdout",
     "output_type": "stream",
     "text": [
      "['u', 's', 'k', 'w', 'a', 's', 'b', 'o', 'r', 'n', 'a', 'n', 'd', 'g', 'r', 'e', 'w', 'u', 'p', 'i', 'n', 'r', 'e', 't', 'o', 'r', 'i', 'a', 'o', 'u', 't', 'h', 'f', 'r', 'i', 'c', 'a', 'e', 'a', 't', 't', 'e', 'n', 'd', 'e', 'd', 't', 'h', 'e', 'n', 'i', 'v', 'e', 'r', 's', 'i', 't', 'y', 'o', 'f', 'r', 'e', 't', 'o', 'r', 'i', 'a', 'b', 'e', 'f', 'o', 'r', 'e', 'm', 'o', 'v', 'i', 'n', 'g', 't', 'o', 'a', 'n', 'a', 'd', 'a', 'a', 't', 'a', 'g', 'e', '1', '7', 'a', 'c', 'q', 'u', 'i', 'r', 'i', 'n', 'g', 'c', 'i', 't', 'i', 'z', 'e', 'n', 's', 'h', 'i', 'p', 't', 'h', 'r', 'o', 'u', 'g', 'h', 'h', 'i', 's', 'a', 'n', 'a', 'd', 'i', 'a', 'n', 'b', 'o', 'r', 'n', 'm', 'o', 't', 'h', 'e', 'r', 'w', 'o', 'y', 'e', 'a', 'r', 's', 'l', 'a', 't', 'e', 'r', 'h', 'e', 'm', 'a', 't', 'r', 'i', 'c', 'u', 'l', 'a', 't', 'e', 'd', 'a', 't', 'u', 'e', 'e', 'n', 's', 'n', 'i', 'v', 'e', 'r', 's', 'i', 't', 'y', 'a', 'n', 'd', 't', 'r', 'a', 'n', 's', 'f', 'e', 'r', 'r', 'e', 'd', 't', 'o', 't', 'h', 'e', 'n', 'i', 'v', 'e', 'r', 's', 'i', 't', 'y', 'o', 'f', 'e', 'n', 'n', 's', 'y', 'l', 'v', 'a', 'n', 'i', 'a', 'w', 'h', 'e', 'r', 'e', 'h', 'e', 'r', 'e', 'c', 'e', 'i', 'v', 'e', 'd', 'b', 'a', 'c', 'h', 'e', 'l', 'o', 'r', 's', 'd', 'e', 'g', 'r', 'e', 'e', 's', 'i', 'n', 'e', 'c', 'o', 'n', 'o', 'm', 'i', 'c', 's', 'a', 'n', 'd', 'p', 'h', 'y', 's', 'i', 'c', 's', 'e', 'm', 'o', 'v', 'e', 'd', 't', 'o', 'a', 'l', 'i', 'f', 'o', 'r', 'n', 'i', 'a', 'i', 'n', '1', '9', '9', '5', 't', 'o', 'a', 't', 't', 'e', 'n', 'd', 't', 'a', 'n', 'f', 'o', 'r', 'd', 'n', 'i', 'v', 'e', 'r', 's', 'i', 't', 'y', 'b', 'u', 't', 'd', 'r', 'o', 'p', 'p', 'e', 'd', 'o', 'u', 't', 'a', 'f', 't', 'e', 'r', 't', 'w', 'o', 'd', 'a', 'y', 's', 't', 'o', 'p', 'u', 'r', 's', 'u', 'e', 'a', 'b', 'u', 's', 'i', 'n', 'e', 's', 's', 'c', 'a', 'r', 'e', 'e', 'r', 'c', 'o', 'f', 'o', 'u', 'n', 'd', 'i', 'n', 'g', 't', 'h', 'e', 'w', 'e', 'b', 's', 'o', 'f', 't', 'w', 'a', 'r', 'e', 'c', 'o', 'm', 'p', 'a', 'n', 'y', 'i', 'p', '2', 'w', 'i', 't', 'h', 'h', 'i', 's', 'b', 'r', 'o', 't', 'h', 'e', 'r', 'i', 'm', 'b', 'a', 'l', 't', 'h', 'e', 's', 't', 'a', 'r', 't', 'u', 'p', 'w', 'a', 's', 'a', 'c', 'q', 'u', 'i', 'r', 'e', 'd', 'b', 'y', 'o', 'm', 'p', 'a', 'q', 'f', 'o', 'r', '3', '0', '7', 'm', 'i', 'l', 'l', 'i', 'o', 'n', 'i', 'n', '1', '9', '9', '9', 'h', 'e', 's', 'a', 'm', 'e', 'y', 'e', 'a', 'r', 'u', 's', 'k', 'c', 'o', 'f', 'o', 'u', 'n', 'd', 'e', 'd', 't', 'h', 'e', 'o', 'n', 'l', 'i', 'n', 'e', 'b', 'a', 'n', 'k', 'c', 'o', 'm', 'w', 'h', 'i', 'c', 'h', 'm', 'e', 'r', 'g', 'e', 'd', 'w', 'i', 't', 'h', 'o', 'n', 'f', 'i', 'n', 'i', 't', 'y', 'i', 'n', '2', '0', '0', '0', 't', 'o', 'f', 'o', 'r', 'm', 'a', 'y', 'a', 'l', 'e', 'a', 'y', 'b', 'o', 'u', 'g', 'h', 't', 'a', 'y', 'a', 'l', 'i', 'n', '2', '0', '0', '2', 'f', 'o', 'r', '1', '5', 'b', 'i', 'l', 'l', 'i', 'o', 'n']\n"
     ]
    }
   ],
   "source": [
    "import re\n",
    "string = \"\"\"Musk was born and grew up in Pretoria, South Africa. He attended the University of Pretoria before moving to Canada at age 17, acquiring citizenship through his Canadian-born mother. Two years later, he matriculated at Queen's University and transferred to the University of Pennsylvania, where he received bachelor's degrees in economics and physics. He moved to California in 1995 to attend Stanford University, but dropped out after two days to pursue a business career, co-founding the web software company Zip2 with his brother Kimbal; the startup was acquired by Compaq for $307 million in 1999. The same year, Musk co-founded the online bank X.com, which merged with Confinity in 2000 to form PayPal. eBay bought PayPal in 2002 for $1.5 billion.\"\"\"\n",
    "\n",
    "regex = '[a-z0-9]'    \n",
    "\n",
    "#the regex has 2 groups\n",
    "match = re.findall(regex, string) \n",
    "print(match) "
   ]
  },
  {
   "cell_type": "markdown",
   "id": "a72f76dd-9e68-4b80-9abc-7fc1a40b5000",
   "metadata": {},
   "source": [
    "*16. What is the procedure for making a normal expression in regax case insensitive?*\n",
    "\n",
    "Using re.I or re.IGNORECASE as the second argument in re.compile() will make the case insensitive for matching\n",
    "\n",
    "Example:"
   ]
  },
  {
   "cell_type": "code",
   "execution_count": 40,
   "id": "3609b01f-5abd-442f-8043-782b43411aef",
   "metadata": {},
   "outputs": [
    {
     "name": "stdout",
     "output_type": "stream",
     "text": [
      "Match found\n"
     ]
    }
   ],
   "source": [
    "insensitive = re.compile(r'AND', re.I)\n",
    "text = 'Naval Ravikant is an Indian-American entrepreneur and investor. He is the co-founder, chairman and former CEO of AngelList.[2] He has invested early-stage in over 200 companies including Uber, FourSquare, Twitter, Wish.com, Poshmark, Postmates, Thumbtack, Notion, SnapLogic, Opendoor, Clubhouse, Stack Overflow, Bolt, OpenDNS, Yammer, and Clearview AI, with over 70 total exits and more than 10 Unicorn companies.'\n",
    "if insensitive.search(text):\n",
    "    print(\"Match found\")"
   ]
  },
  {
   "cell_type": "code",
   "execution_count": 41,
   "id": "eba25219-15b9-4ea2-b41e-4ad64d1523aa",
   "metadata": {},
   "outputs": [
    {
     "name": "stdout",
     "output_type": "stream",
     "text": [
      "Match found\n"
     ]
    }
   ],
   "source": [
    "insensitive = re.compile(r'AND', re.IGNORECASE)\n",
    "text = 'Naval Ravikant is an Indian-American entrepreneur and investor. He is the co-founder, chairman and former CEO of AngelList.[2] He has invested early-stage in over 200 companies including Uber, FourSquare, Twitter, Wish.com, Poshmark, Postmates, Thumbtack, Notion, SnapLogic, Opendoor, Clubhouse, Stack Overflow, Bolt, OpenDNS, Yammer, and Clearview AI, with over 70 total exits and more than 10 Unicorn companies.'\n",
    "if insensitive.search(text):\n",
    "    print(\"Match found\")"
   ]
  },
  {
   "cell_type": "code",
   "execution_count": 44,
   "id": "01d70009-9c20-4673-a186-8c93aaa356bc",
   "metadata": {},
   "outputs": [
    {
     "name": "stdout",
     "output_type": "stream",
     "text": [
      "Match not found\n"
     ]
    }
   ],
   "source": [
    "insensitive = re.compile(r'AND')\n",
    "text = 'Naval Ravikant is an Indian-American entrepreneur and investor. He is the co-founder, chairman and former CEO of AngelList.[2] He has invested early-stage in over 200 companies including Uber, FourSquare, Twitter, Wish.com, Poshmark, Postmates, Thumbtack, Notion, SnapLogic, Opendoor, Clubhouse, Stack Overflow, Bolt, OpenDNS, Yammer, and Clearview AI, with over 70 total exits and more than 10 Unicorn companies.'\n",
    "if insensitive.search(text):\n",
    "    print(\"Match found\")\n",
    "else:\n",
    "    print(\"Match not found\")  #To explain re.I and re.IGNORECASE works!"
   ]
  },
  {
   "cell_type": "markdown",
   "id": "052d4250-7248-4aa5-a8d7-1082145bf23f",
   "metadata": {},
   "source": [
    "*17. What does the . character normally match? What does it match if re.DOTALL is passed as 2nd\n",
    "argument in re.compile()?*\n",
    "\n",
    "\n",
    "The . character normally matches any character except the newline character. If re.DOTALL is passed as the second argument to re.compile(), then the dot will also match newline characters.\n",
    "\n",
    "*18. If numRegex = re.compile(r'\\d+'), what will numRegex.sub('X', '11 drummers, 10 pipers, five rings, 4\n",
    "hen') return?*\n",
    "\n",
    "It replaces digits with X in the output value"
   ]
  },
  {
   "cell_type": "code",
   "execution_count": 51,
   "id": "9cd7fae3-84f7-4f20-8ea7-fec11d12ca9f",
   "metadata": {},
   "outputs": [
    {
     "data": {
      "text/plain": [
       "'X drummers, X pipers, five rings, X hen'"
      ]
     },
     "execution_count": 51,
     "metadata": {},
     "output_type": "execute_result"
    }
   ],
   "source": [
    "numRegex = re.compile(r'\\d+')\n",
    "returnvalue = numRegex.sub('X', '11 drummers, 10 pipers, five rings, 4 hen')\n",
    "returnvalue"
   ]
  },
  {
   "cell_type": "markdown",
   "id": "5becf9f8-24cb-4532-90bf-cfe248b4da6f",
   "metadata": {},
   "source": [
    "*19. What does passing re.VERBOSE as the 2nd argument to re.compile() allow to do?*\n",
    "\n",
    "Passing re.VERBOSE as 2nd argument helps in adding whitespace and comments to the string passed to re.compile()\n",
    "\n",
    "*20. How would you write a regex that match a number with comma for every three digits? It must\n",
    "match the given following:*\n",
    "\n",
    "*'42'*\n",
    "\n",
    "*'1,234'*\n",
    "\n",
    "*'6,368,745'*\n",
    "\n",
    "*but not the following:*\n",
    "\n",
    "*'12,34,567' (which has only two digits between the commas)*\n",
    "\n",
    "*'1234' (which lacks commas)*\n",
    "\n",
    "(r'^\\d{1,3}(,\\d{3})\\*$') is the correct regex\n",
    "\n",
    "Example:"
   ]
  },
  {
   "cell_type": "code",
   "execution_count": 21,
   "id": "5e183f05-3e44-4c2a-9356-d154ee705a0a",
   "metadata": {},
   "outputs": [
    {
     "name": "stdout",
     "output_type": "stream",
     "text": [
      "6,368,745\n"
     ]
    }
   ],
   "source": [
    "regex = re.compile(r'^\\d{1,3}(,\\d{3})*$')\n",
    "match = regex.search('6,368,745')\n",
    "print(match.group())"
   ]
  },
  {
   "cell_type": "markdown",
   "id": "cbb49eb1-6cd8-4996-b0c4-a242eccdab38",
   "metadata": {},
   "source": [
    "*21. How would you write a regex that matches the full name of someone whose last name is\n",
    "Watanabe? You can assume that the first name that comes before it will always be one word that\n",
    "begins with a capital letter. The regex must match the following:*\n",
    "\n",
    "re.compile(r'[A-Z][a-z]\\*\\sNakamoto') is the correct regex\n",
    "\n",
    "Example:"
   ]
  },
  {
   "cell_type": "code",
   "execution_count": 22,
   "id": "1d7805b5-fb3a-455c-852e-78155a79acad",
   "metadata": {},
   "outputs": [
    {
     "data": {
      "text/plain": [
       "'Haruto Watanabe'"
      ]
     },
     "execution_count": 22,
     "metadata": {},
     "output_type": "execute_result"
    }
   ],
   "source": [
    "name = re.compile(r'[A-Z][a-z]*\\sWatanabe')\n",
    "match = name.search('Haruto Watanabe')\n",
    "match.group()"
   ]
  },
  {
   "cell_type": "markdown",
   "id": "6bfab946-9b4c-4625-b913-2a7f5399d8a1",
   "metadata": {},
   "source": [
    "*22. How would you write a regex that matches a sentence where the first word is either Alice, Bob,\n",
    "or Carol; the second word is either eats, pets, or throws; the third word is apples, cats, or baseballs;\n",
    "and the sentence ends with a period? This regex should be case-insensitive. It must match the\n",
    "following:*\n",
    "\n",
    "re.compile(r'(Alice|Bob|Carol)\\s(eats|pets|throws)\\s(apples|cats|baseballs)\\.', re.IGNORECASE) is the correct regex\n",
    "\n",
    "Example:"
   ]
  },
  {
   "cell_type": "code",
   "execution_count": 24,
   "id": "1ffdb6ee-5e0a-4efd-82c4-97be0f40c2dd",
   "metadata": {},
   "outputs": [
    {
     "data": {
      "text/plain": [
       "'Alice eats apples.'"
      ]
     },
     "execution_count": 24,
     "metadata": {},
     "output_type": "execute_result"
    }
   ],
   "source": [
    "string = re.compile(r'(Alice|Bob|Carol)\\s(eats|pets|throws)\\s(apples|cats|baseballs)\\.', re.IGNORECASE)\n",
    "match = string.search('Alice eats apples.')\n",
    "match.group()"
   ]
  },
  {
   "cell_type": "code",
   "execution_count": 25,
   "id": "5da4076e-4f4e-44db-a7f9-923baad04430",
   "metadata": {},
   "outputs": [
    {
     "data": {
      "text/plain": [
       "'BOB EATS CATS.'"
      ]
     },
     "execution_count": 25,
     "metadata": {},
     "output_type": "execute_result"
    }
   ],
   "source": [
    "string = re.compile(r'(Alice|Bob|Carol)\\s(eats|pets|throws)\\s(apples|cats|baseballs)\\.', re.IGNORECASE)\n",
    "match = string.search('BOB EATS CATS.')\n",
    "match.group()"
   ]
  }
 ],
 "metadata": {
  "kernelspec": {
   "display_name": "Python 3 (ipykernel)",
   "language": "python",
   "name": "python3"
  },
  "language_info": {
   "codemirror_mode": {
    "name": "ipython",
    "version": 3
   },
   "file_extension": ".py",
   "mimetype": "text/x-python",
   "name": "python",
   "nbconvert_exporter": "python",
   "pygments_lexer": "ipython3",
   "version": "3.10.6"
  }
 },
 "nbformat": 4,
 "nbformat_minor": 5
}
