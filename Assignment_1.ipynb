{
 "cells": [
  {
   "cell_type": "code",
   "execution_count": null,
   "id": "e2045796-5bfa-4f5f-ad95-37255ffd2a6c",
   "metadata": {},
   "outputs": [],
   "source": [
    "#Assignment_1\n",
    "###\n",
    "1. In the below elements which of them are values or an expression? eg:- values can be integer or string and expressions will be mathematical operators.\n",
    "Values:'hello' , -87.8 , 6\n",
    "Expressions: * , - , / , +\n",
    "    \n",
    "2. What is the difference between string and variable?\n",
    "String is one of the datatype values, which is stored by variables. And variable are elements in which store values and are called upon by our code.\n",
    "Example:"
   ]
  },
  {
   "cell_type": "code",
   "execution_count": 2,
   "id": "ad0baa7b-d2f6-41b0-8a62-52a9ed5a3a5d",
   "metadata": {},
   "outputs": [
    {
     "name": "stdout",
     "output_type": "stream",
     "text": [
      "arbaz\n"
     ]
    }
   ],
   "source": [
    "string_example = \"arbaz\"\n",
    "print(string_example)"
   ]
  },
  {
   "cell_type": "code",
   "execution_count": null,
   "id": "90a936cf-2866-4276-91c9-6bc7c57122c8",
   "metadata": {},
   "outputs": [],
   "source": [
    "###\n",
    "Here string_example is a type of variable and \"arbaz\" is an example of string.\n",
    "\n",
    "3. Describe three different data types.\n",
    "i) Integers\n",
    "ii) String\n",
    "iii) float"
   ]
  },
  {
   "cell_type": "code",
   "execution_count": 5,
   "id": "be010cf9-02c9-4a68-8788-601191fe37f6",
   "metadata": {},
   "outputs": [
    {
     "name": "stdout",
     "output_type": "stream",
     "text": [
      "The data types are as follows: <class 'int'>,<class 'str'>,<class 'float'>\n"
     ]
    }
   ],
   "source": [
    "var_1 = 5\n",
    "var_2 = \"arbazaga\"\n",
    "var_3 = 6.5\n",
    "print(f\"The data types are as follows: {type(var_1)},{type(var_2)},{type(var_3)}\")"
   ]
  },
  {
   "cell_type": "code",
   "execution_count": null,
   "id": "3e7386cf-715a-486a-baea-289e0caf00ee",
   "metadata": {},
   "outputs": [],
   "source": [
    "###\n",
    "4. What is an expression made up of? What do all expressions do?\n",
    "Expressions are a combination of values, variables and operators, which deduce to a value.\n",
    "Example of 3 types of expressions out of many:\n"
   ]
  },
  {
   "cell_type": "code",
   "execution_count": 6,
   "id": "24c17333-12ea-4a01-a9ee-6cc7884235f4",
   "metadata": {},
   "outputs": [
    {
     "name": "stdout",
     "output_type": "stream",
     "text": [
      "13\n"
     ]
    }
   ],
   "source": [
    "#Arithmetic Expressions\n",
    "a = 7\n",
    "b = 6\n",
    "print(a+b)"
   ]
  },
  {
   "cell_type": "code",
   "execution_count": 7,
   "id": "17393572-2e8b-44c4-b9b0-ab677c6a1663",
   "metadata": {},
   "outputs": [
    {
     "name": "stdout",
     "output_type": "stream",
     "text": [
      "True\n"
     ]
    }
   ],
   "source": [
    "#Relational Expressions\n",
    "a = 6\n",
    "b = 3\n",
    "print(a>b)"
   ]
  },
  {
   "cell_type": "code",
   "execution_count": 8,
   "id": "183988fa-496b-4fbf-a665-70a29de9b59c",
   "metadata": {},
   "outputs": [
    {
     "name": "stdout",
     "output_type": "stream",
     "text": [
      "7.5\n"
     ]
    }
   ],
   "source": [
    "#Floating Expressions\n",
    "a = 45\n",
    "b = 6\n",
    "print(a/b)"
   ]
  },
  {
   "cell_type": "code",
   "execution_count": null,
   "id": "ecc58887-d0e0-43b8-803b-c3c6ad93291d",
   "metadata": {},
   "outputs": [],
   "source": [
    "###\n",
    "5. This assignment statements, like spam = 10. What is the difference between an expression and a statement?\n",
    "Expressions deduce to a value, whereas statements are instructions which Python intrepreter executes.\n",
    "\n",
    "6. After running the following code, what does the variable bacon contain?\n",
    "bacon = 22\n",
    "bacon + 1\n",
    "\n",
    "The variable contains 22\n"
   ]
  },
  {
   "cell_type": "code",
   "execution_count": 9,
   "id": "9a59c4ce-98e1-4b19-a894-842129ba61ab",
   "metadata": {},
   "outputs": [
    {
     "name": "stdout",
     "output_type": "stream",
     "text": [
      "22\n"
     ]
    }
   ],
   "source": [
    "bacon = 22\n",
    "bacon + 1\n",
    "print(bacon)"
   ]
  },
  {
   "cell_type": "code",
   "execution_count": null,
   "id": "1a28c1e1-167f-4831-986e-e4634f1a222e",
   "metadata": {},
   "outputs": [],
   "source": [
    "7. What should the values of the following two terms be?\n",
    "spamspamspam"
   ]
  },
  {
   "cell_type": "code",
   "execution_count": 17,
   "id": "62709fd5-5d63-4496-b635-d65c5ed3ec1c",
   "metadata": {},
   "outputs": [
    {
     "name": "stdout",
     "output_type": "stream",
     "text": [
      "spamspamspam spamspamspam\n"
     ]
    }
   ],
   "source": [
    "print('spam' + 'spamspam'\n",
    "      , 'spam' * 3)\n"
   ]
  },
  {
   "cell_type": "code",
   "execution_count": null,
   "id": "5b2db521-58e0-4edc-bd09-df982642f68e",
   "metadata": {},
   "outputs": [],
   "source": [
    "8. Why is eggs a valid variable name while 100 is invalid?\n",
    "Variable names cannot start with numbers in python."
   ]
  },
  {
   "cell_type": "code",
   "execution_count": 20,
   "id": "466cc51f-3e7c-4054-a9da-f2eaaa65d16f",
   "metadata": {},
   "outputs": [
    {
     "ename": "SyntaxError",
     "evalue": "cannot assign to literal here. Maybe you meant '==' instead of '='? (398195660.py, line 2)",
     "output_type": "error",
     "traceback": [
      "\u001b[0;36m  Cell \u001b[0;32mIn [20], line 2\u001b[0;36m\u001b[0m\n\u001b[0;31m    100 = \"arbaz\"\u001b[0m\n\u001b[0m    ^\u001b[0m\n\u001b[0;31mSyntaxError\u001b[0m\u001b[0;31m:\u001b[0m cannot assign to literal here. Maybe you meant '==' instead of '='?\n"
     ]
    }
   ],
   "source": [
    "eggs = \"arbaz\"\n",
    "100 = \"arbaz\""
   ]
  },
  {
   "cell_type": "code",
   "execution_count": null,
   "id": "9f630b42-8eb7-4ab5-8581-e04616e7d360",
   "metadata": {},
   "outputs": [],
   "source": [
    "9. What three functions can be used to get the integer, floating-point number, or string version of a value?\n",
    "The int(), float(), and str() functions respectively are used to convert a value to an integer, a floating-point number, or a string.\n",
    "\n",
    "10. Why does this expression cause an error? How can you fix it?\n",
    "'I have eaten ' + 99 + ' burritos.'\n",
    "By adding quotes to \"99\""
   ]
  },
  {
   "cell_type": "code",
   "execution_count": 21,
   "id": "04505a89-fdd9-4bb2-9c2f-9e10a615bcc3",
   "metadata": {},
   "outputs": [
    {
     "name": "stdout",
     "output_type": "stream",
     "text": [
      "I have eaten 99 burritos.\n"
     ]
    }
   ],
   "source": [
    "print('I have eaten ' + '99' + ' burritos.')\n"
   ]
  },
  {
   "cell_type": "code",
   "execution_count": null,
   "id": "fcc59d6b-d286-480f-a7fa-815188a34c70",
   "metadata": {},
   "outputs": [],
   "source": [
    "----"
   ]
  }
 ],
 "metadata": {
  "kernelspec": {
   "display_name": "Python 3 (ipykernel)",
   "language": "python",
   "name": "python3"
  },
  "language_info": {
   "codemirror_mode": {
    "name": "ipython",
    "version": 3
   },
   "file_extension": ".py",
   "mimetype": "text/x-python",
   "name": "python",
   "nbconvert_exporter": "python",
   "pygments_lexer": "ipython3",
   "version": "3.10.6"
  }
 },
 "nbformat": 4,
 "nbformat_minor": 5
}
