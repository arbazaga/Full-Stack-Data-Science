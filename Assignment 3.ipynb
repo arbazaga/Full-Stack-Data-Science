{
 "cells": [
  {
   "cell_type": "code",
   "execution_count": null,
   "id": "1d13d872-4d93-485c-8ae5-1a5ac841d3dd",
   "metadata": {},
   "outputs": [],
   "source": [
    "\n",
    "Assignment 3\n",
    "\n",
    "###1. Why are functions advantageous to have in your programs?\n",
    "It makes no sense to write the same code again and again, hence functions come to the rescue to solve this problem.\n",
    "The functions are used in place of the repetitive code which is predefined, which takes an input and processes it as per predefined conditions and gives an output.\n",
    "Example:"
   ]
  },
  {
   "cell_type": "code",
   "execution_count": 3,
   "id": "cf8233ad-dd04-47b0-addd-1871d4685b48",
   "metadata": {},
   "outputs": [
    {
     "data": {
      "text/plain": [
       "16"
      ]
     },
     "execution_count": 3,
     "metadata": {},
     "output_type": "execute_result"
    }
   ],
   "source": [
    "def sqr(x):\n",
    "    x2 = x*x\n",
    "    return x2\n",
    "sqr(4)"
   ]
  },
  {
   "cell_type": "code",
   "execution_count": null,
   "id": "e5a2a3b7-25a8-4f79-8102-d883da342911",
   "metadata": {},
   "outputs": [],
   "source": [
    "Hence, no one needs to again and again write the code for calculating square of a number. Instead, he/she can use the defined sqr function in it's place."
   ]
  },
  {
   "cell_type": "code",
   "execution_count": null,
   "id": "2b3b4f30-68f8-4b43-a184-80c5bba563f0",
   "metadata": {},
   "outputs": [],
   "source": [
    "\n",
    "Q2. When does the code in a function run:when it's specified or when it's called?\n",
    "When it is called\n",
    "\n",
    "Q3. What statement creates a function?\n",
    "In order to create a function, one has to mention the following:\n",
    "def function_name(input_variable):\n",
    "    output_variable = write how input needs to be processed\n",
    "    return output_variable\n",
    "\n",
    "There are exceptions, where outputs can be generated without asking for any inputs. Also, processing steps can go for many lines as well.\n",
    "The above notation is just an example and not the only standard notation to be followed.\n",
    "\n",
    "Q4. What is the difference between a function and a function call?\n",
    "A function includes the definition statement and the code on how to process it upon being called.\n",
    "A function call leads to function to be executed in the program.\n",
    "\n",
    "Q5. How many global scopes are there in a Python program? How many local scopes?\n",
    "There is only one global scope in a Python program, which remains until program is there in existence.\n",
    "Local scopes are generated whenever functions are called and executed.\n",
    "\n",
    "Q6. What happens to variables in a local scope when the function call returns?\n",
    "When a function call returns the value, the local scope is deleted and no longer part of the program.\n",
    "\n",
    "Q7. What is the concept of a return value? Is it possible to have a return value in an expression?\n",
    "A return value is the value that a function call generated after processing based on the defined function. Like any value, a return value can also be used as part of any expression.\n",
    "\n",
    "Q8. If a function does not have a return statement, what is the return value of a call to that function?\n",
    "It will return nothing\n",
    "Example:"
   ]
  },
  {
   "cell_type": "code",
   "execution_count": 11,
   "id": "51ee5269-f780-48e4-ada6-b69859684ccd",
   "metadata": {},
   "outputs": [],
   "source": [
    "def nortn(x):\n",
    "    x = x**x\n",
    "nortn(3)"
   ]
  },
  {
   "cell_type": "code",
   "execution_count": 12,
   "id": "1bb4eaab-dda0-4b70-9e54-c2ec83a5ff15",
   "metadata": {},
   "outputs": [
    {
     "data": {
      "text/plain": [
       "27"
      ]
     },
     "execution_count": 12,
     "metadata": {},
     "output_type": "execute_result"
    }
   ],
   "source": [
    "def nortn(x):\n",
    "    x = x**x\n",
    "    return x\n",
    "nortn(3)"
   ]
  },
  {
   "cell_type": "code",
   "execution_count": null,
   "id": "57dce412-86ad-41d6-9944-b70d805de4b3",
   "metadata": {},
   "outputs": [],
   "source": [
    "Q9. How do you make a function variable refer to the global variable?\n",
    "In order to refer to a global variable in a function, you can use the global keyword to declare which variables are global\n",
    "\n",
    "Q10. What is the data type of None?\n",
    "Nonetype\n",
    "\n",
    "Q11. What does the sentence import areallyourpetsnamederic do?\n",
    "That import statement imports a module named areallyourpetsnamederic. (Please note that it isn’t a real Python module)\n",
    "\n",
    "Q12. If you had a bacon() feature in a spam module, what would you call it after importing spam?\n",
    "spam.bacon()\n",
    "\n",
    "Q13. What can you do to save a programme from crashing if it encounters an error?\n",
    "We can use the try and except block, in order to solve this.\n",
    "\n",
    "Q14. What is the purpose of the try clause? What is the purpose of the except clause?\n",
    "Try and Except clause is used to manage the errors which happens due to execution of our code . \n",
    "The code inside the try block will only execute when there is no error in the code written inside the try block. \n",
    "Whereas the code inside the except block will only execute when there is an error in code written inside the try block. \n",
    "Example:"
   ]
  },
  {
   "cell_type": "code",
   "execution_count": 13,
   "id": "47405f33-da25-4cba-85c9-8e6799b83dbb",
   "metadata": {},
   "outputs": [
    {
     "name": "stdout",
     "output_type": "stream",
     "text": [
      "The code has no errors\n"
     ]
    }
   ],
   "source": [
    "try:\n",
    "    int(4)\n",
    "    print(\"The code has no errors\")\n",
    "except:\n",
    "    print(\"There is an error in the code present in try block\")"
   ]
  },
  {
   "cell_type": "code",
   "execution_count": 14,
   "id": "04fcc734-c35e-4c02-85e1-a6908aedf41e",
   "metadata": {},
   "outputs": [
    {
     "name": "stdout",
     "output_type": "stream",
     "text": [
      "There is an error in the code present in try block\n"
     ]
    }
   ],
   "source": [
    "try:\n",
    "    int(\"arbaz\")\n",
    "    print(\"The code has no errors\")\n",
    "except:\n",
    "    print(\"There is an error in the code present in try block\")"
   ]
  },
  {
   "cell_type": "code",
   "execution_count": null,
   "id": "9dab284c-b699-4c82-a950-be5439527351",
   "metadata": {},
   "outputs": [],
   "source": []
  }
 ],
 "metadata": {
  "kernelspec": {
   "display_name": "Python 3 (ipykernel)",
   "language": "python",
   "name": "python3"
  },
  "language_info": {
   "codemirror_mode": {
    "name": "ipython",
    "version": 3
   },
   "file_extension": ".py",
   "mimetype": "text/x-python",
   "name": "python",
   "nbconvert_exporter": "python",
   "pygments_lexer": "ipython3",
   "version": "3.10.6"
  }
 },
 "nbformat": 4,
 "nbformat_minor": 5
}
