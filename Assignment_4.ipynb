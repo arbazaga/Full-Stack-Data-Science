{
 "cells": [
  {
   "cell_type": "markdown",
   "id": "f86210b2-fc72-4b26-a539-1318bbe723d0",
   "metadata": {},
   "source": [
    "Assignment 4\n",
    "\n",
    "1. What exactly is []?\n",
    "\n",
    "It denotes an empty list. \n",
    "\n",
    "2. In a list of values stored in a variable called spam, how would you assign the value \"hello\" as the\n",
    "third value? (Assume [2, 4, 6, 8, 10] are in spam.)"
   ]
  },
  {
   "cell_type": "code",
   "execution_count": 3,
   "id": "94d3415a-0a15-4cbf-becc-1e401c1e5c94",
   "metadata": {},
   "outputs": [
    {
     "name": "stdout",
     "output_type": "stream",
     "text": [
      "[2, 4, 'hello', 8]\n"
     ]
    }
   ],
   "source": [
    "spam = [2,4,6,8]\n",
    "spam[2] = \"hello\" #As index starts with 0, so position = index + 1\n",
    "print(spam)"
   ]
  },
  {
   "cell_type": "markdown",
   "id": "31bf7947-b264-444d-9775-d7d0fb39c0e8",
   "metadata": {},
   "source": [
    "Lets pretend the spam includes the list ['a', 'b','c','d'] for the next three queries.\n",
    "\n",
    "What is the value of spam[int(int(3 * 2) / 11)]?\n",
    "\n",
    "The answer is d"
   ]
  },
  {
   "cell_type": "code",
   "execution_count": 5,
   "id": "9e5cf360-2001-4af6-bcdf-c071597ed66d",
   "metadata": {},
   "outputs": [
    {
     "data": {
      "text/plain": [
       "'d'"
      ]
     },
     "execution_count": 5,
     "metadata": {},
     "output_type": "execute_result"
    }
   ],
   "source": [
    "spam = ['a', 'b','c','d']\n",
    "spam[int(int('3' * 2) / 11)] "
   ]
  },
  {
   "cell_type": "code",
   "execution_count": 14,
   "id": "fbfa098c-1d2f-47b5-9dd8-dd533bd23c62",
   "metadata": {},
   "outputs": [
    {
     "name": "stdout",
     "output_type": "stream",
     "text": [
      "\n",
      "33\n",
      "33\n",
      "3\n",
      "d\n",
      "\n"
     ]
    }
   ],
   "source": [
    "#Explanation\n",
    "a = \"3\"*2\n",
    "b = int(a)\n",
    "c = int(b/11)\n",
    "d = spam[c]\n",
    "print(f\"\"\"\n",
    "{a}\n",
    "{b}\n",
    "{c}\n",
    "{d}\n",
    "\"\"\")"
   ]
  },
  {
   "cell_type": "markdown",
   "id": "1eb2f126-0c06-43fa-a67d-e848e480e6fb",
   "metadata": {},
   "source": [
    "4. What is the value of spam[-1]?\n",
    "\n",
    "The answer is d, as negative indexed start from backwards."
   ]
  },
  {
   "cell_type": "code",
   "execution_count": 13,
   "id": "e9d63ca7-4e42-4005-853c-0e9111b9c3b2",
   "metadata": {},
   "outputs": [
    {
     "data": {
      "text/plain": [
       "'d'"
      ]
     },
     "execution_count": 13,
     "metadata": {},
     "output_type": "execute_result"
    }
   ],
   "source": [
    "spam[-1]"
   ]
  },
  {
   "cell_type": "markdown",
   "id": "c656d56f-8415-4f0b-8008-e5ed8b804240",
   "metadata": {},
   "source": [
    "5. What is the value of spam[:2]?\n",
    "\n",
    "The value at 0 and 1 index is the answer, which is a and b"
   ]
  },
  {
   "cell_type": "code",
   "execution_count": 15,
   "id": "f979d537-e6da-427c-a401-282727330660",
   "metadata": {},
   "outputs": [
    {
     "data": {
      "text/plain": [
       "['a', 'b']"
      ]
     },
     "execution_count": 15,
     "metadata": {},
     "output_type": "execute_result"
    }
   ],
   "source": [
    "spam[:2]"
   ]
  },
  {
   "cell_type": "markdown",
   "id": "f16a5563-d082-4d76-a7dc-133e08a96289",
   "metadata": {},
   "source": [
    "Let's pretend bacon has the list [3.14, 'cat' ,11, 'cat',True] for the next three questions.\n",
    "\n",
    "6. What is the value of bacon.index('cat')?\n",
    "\n",
    "The answer is the smallest index which has value \"cat\", which is 1"
   ]
  },
  {
   "cell_type": "code",
   "execution_count": 31,
   "id": "de471667-47a2-4b05-842e-432af6da7be8",
   "metadata": {},
   "outputs": [
    {
     "data": {
      "text/plain": [
       "1"
      ]
     },
     "execution_count": 31,
     "metadata": {},
     "output_type": "execute_result"
    }
   ],
   "source": [
    "bacon = [3.14, 'cat', 11, 'cat', True]\n",
    "bacon.index('cat')"
   ]
  },
  {
   "cell_type": "markdown",
   "id": "4aaac553-d9ca-4c18-96a5-eb0ca9c3c441",
   "metadata": {
    "tags": []
   },
   "source": [
    "7. How does bacon.append(99) change the look of the list value in bacon?\n",
    "\n",
    "It adds 99 at the end of the list as a new item."
   ]
  },
  {
   "cell_type": "code",
   "execution_count": 32,
   "id": "015eb9cf-5527-47c1-b482-2e5092d38766",
   "metadata": {},
   "outputs": [
    {
     "name": "stdout",
     "output_type": "stream",
     "text": [
      "[3.14, 'cat', 11, 'cat', True, 99]\n"
     ]
    }
   ],
   "source": [
    "bacon.append(99)\n",
    "print(bacon)"
   ]
  },
  {
   "cell_type": "markdown",
   "id": "840b8a23-410c-4804-a40f-73f95fdd7b6c",
   "metadata": {},
   "source": [
    "8. How does bacon.remove('cat') change the look of the list in bacon?\n",
    "\n",
    "It removes cat value which occurs the earliest from left side."
   ]
  },
  {
   "cell_type": "code",
   "execution_count": 33,
   "id": "ea12e916-b7f3-4512-b5a8-fd9cb789b48a",
   "metadata": {},
   "outputs": [
    {
     "name": "stdout",
     "output_type": "stream",
     "text": [
      "[3.14, 11, 'cat', True, 99]\n"
     ]
    }
   ],
   "source": [
    "bacon.remove('cat')\n",
    "print(bacon)"
   ]
  },
  {
   "cell_type": "markdown",
   "id": "cfc7d115-de1f-41b4-9925-45bb064dc2ec",
   "metadata": {},
   "source": [
    "9. What are the list concatenation and list replication operators?\n",
    "\n",
    "The operator for list concatenation is + and list replication operator is *"
   ]
  },
  {
   "cell_type": "code",
   "execution_count": 60,
   "id": "c3bf923c-f225-4d85-8b56-2678164d7232",
   "metadata": {},
   "outputs": [
    {
     "name": "stdout",
     "output_type": "stream",
     "text": [
      "[1, 2, 4, 6, 1, 2, 4, 6]\n"
     ]
    }
   ],
   "source": [
    "list = [1,2,4,6,]\n",
    "newlist = list+list\n",
    "print (newlist)"
   ]
  },
  {
   "cell_type": "code",
   "execution_count": 61,
   "id": "af100b0e-36e3-48be-a790-3e538e513324",
   "metadata": {},
   "outputs": [
    {
     "name": "stdout",
     "output_type": "stream",
     "text": [
      "[1, 2, 4, 6, 1, 2, 4, 6, 1, 2, 4, 6, 1, 2, 4, 6]\n"
     ]
    }
   ],
   "source": [
    "list = [1,2,4,6,]\n",
    "newlist = list*4\n",
    "print (newlist)"
   ]
  },
  {
   "cell_type": "markdown",
   "id": "6429103d-a98b-4995-adef-ef245ed42e2a",
   "metadata": {},
   "source": [
    "10. What is difference between the list methods append() and insert()?\n",
    "\n",
    "Append adds value at the end of list, whereas insert can be used to add values anywhere in the list."
   ]
  },
  {
   "cell_type": "code",
   "execution_count": 62,
   "id": "c9d9ff67-8e0d-4d7c-bf41-ff109a08d222",
   "metadata": {},
   "outputs": [
    {
     "data": {
      "text/plain": [
       "[1, 2, 4, 6, 'hello']"
      ]
     },
     "execution_count": 62,
     "metadata": {},
     "output_type": "execute_result"
    }
   ],
   "source": [
    "list.append(\"hello\")\n",
    "list"
   ]
  },
  {
   "cell_type": "code",
   "execution_count": 63,
   "id": "26537d71-1105-4650-854a-08b43c29e8c9",
   "metadata": {},
   "outputs": [
    {
     "data": {
      "text/plain": [
       "[1, 2, 'four', 4, 6, 'hello']"
      ]
     },
     "execution_count": 63,
     "metadata": {},
     "output_type": "execute_result"
    }
   ],
   "source": [
    "list.insert(2,\"four\")\n",
    "list"
   ]
  },
  {
   "cell_type": "markdown",
   "id": "56cb372d-fa87-4af9-a2c6-ff1c7307f632",
   "metadata": {},
   "source": [
    "11. What are the two methods for removing items from a list?\n",
    "\n",
    "1st method - By using remove function, which is list_name.remove(item_to_be_deleted_from_list)\n",
    "\n",
    "2nd method - By using pop function, which is list_name.pop(index_of_item_to_be_deleted_from_list)\n",
    "Example:"
   ]
  },
  {
   "cell_type": "code",
   "execution_count": 2,
   "id": "6e04a1a6-33c7-4e05-8b63-ea0fbaf0ef11",
   "metadata": {},
   "outputs": [
    {
     "data": {
      "text/plain": [
       "[3.14, 11, 'cat', True]"
      ]
     },
     "execution_count": 2,
     "metadata": {},
     "output_type": "execute_result"
    }
   ],
   "source": [
    "bacon = [3.14, 'cat', 11, 'cat', True]\n",
    "bacon.remove('cat')\n",
    "bacon"
   ]
  },
  {
   "cell_type": "code",
   "execution_count": 6,
   "id": "b72c1c98-b413-42b3-8635-f96e87fcdcd9",
   "metadata": {},
   "outputs": [
    {
     "data": {
      "text/plain": [
       "[3.14, 11, 'cat', True]"
      ]
     },
     "execution_count": 6,
     "metadata": {},
     "output_type": "execute_result"
    }
   ],
   "source": [
    "bacon = [3.14, 'cat', 11, 'cat', True]\n",
    "bacon.pop(1)\n",
    "bacon"
   ]
  },
  {
   "cell_type": "markdown",
   "id": "533f35e2-1d69-42b6-afd7-c7eb7f44009a",
   "metadata": {},
   "source": [
    "12. Describe how list values and string values are identical.\n",
    "\n",
    "Commonalities between list and string:\n",
    "1) Both have indexes and can be sliced\n",
    "2) Can be concatenated or replicated\n",
    "3) Can be used for \"for\" loops\n",
    "4) len() can be used for both\n",
    "5) Used with in and not in operators."
   ]
  },
  {
   "cell_type": "markdown",
   "id": "f5e1255b-2001-4b09-b9d8-47cf7151691a",
   "metadata": {},
   "source": [
    "13. What's the difference between tuples and lists?\n",
    "\n",
    "1) Lists display mutability, as we can update their items, whereas tuples are immutable\n",
    "2) List start with square brackets, whereas tuple start and end with parentheses"
   ]
  },
  {
   "cell_type": "markdown",
   "id": "8d6c31ac-7d33-47ec-bfa6-be82f7bcdc4d",
   "metadata": {},
   "source": [
    "14. How do you type a tuple value that only contains the integer 42?\n",
    "\n",
    "By adding comma after 42, as only 42 will be considered as integer\n",
    "Example:"
   ]
  },
  {
   "cell_type": "code",
   "execution_count": 13,
   "id": "93aeffab-22d8-4ede-b81f-eee44925916b",
   "metadata": {},
   "outputs": [
    {
     "name": "stdout",
     "output_type": "stream",
     "text": [
      "<class 'int'>\n",
      "<class 'tuple'>\n"
     ]
    }
   ],
   "source": [
    "tuple1 = (42)\n",
    "tuple2 = (42,)\n",
    "print(type(tuple1))\n",
    "print(type(tuple2))"
   ]
  },
  {
   "cell_type": "markdown",
   "id": "6a99c212-b1cf-4285-a8b1-a17c4d18df6d",
   "metadata": {},
   "source": [
    "15. How do you get a list value's tuple form? How do you get a tuple value's list form?\n",
    "\n",
    "By using tuple() and list() functions for typecasting\n",
    "\n",
    "16. Variables that \"contain\" list values are not necessarily lists themselves. Instead, what do they contain?\n",
    "\n",
    "They contain references to list values.\n",
    "Example:"
   ]
  },
  {
   "cell_type": "code",
   "execution_count": 26,
   "id": "36895c77-63ae-420f-8557-07ba8ad8c9aa",
   "metadata": {},
   "outputs": [
    {
     "name": "stdout",
     "output_type": "stream",
     "text": [
      "140268648759536\n",
      "140268648759536\n",
      "140268648759536\n"
     ]
    }
   ],
   "source": [
    "list = [1,2,3,4]\n",
    "a = list[0]\n",
    "print(id(a))\n",
    "print(id(list[0]))\n",
    "print(id(1))"
   ]
  },
  {
   "cell_type": "markdown",
   "id": "a6f0e94f-214b-4759-be56-6fa2b72cde6d",
   "metadata": {},
   "source": [
    "17. How do you distinguish between copy.copy() and copy.deepcopy()?\n",
    "\n",
    "The copy.copy() function will do a shallow copy of a list which means it still references to the old list, while the copy.deepcopy() function will do a deep copy of a list. That is, only copy.deepcopy() will duplicate any lists inside the list.\n",
    "\n",
    "Example:"
   ]
  },
  {
   "cell_type": "code",
   "execution_count": 16,
   "id": "27bd5036-a331-4b67-bda4-b58b04a4095e",
   "metadata": {},
   "outputs": [
    {
     "name": "stdout",
     "output_type": "stream",
     "text": [
      "Old list > [[2, 4, 6, 8], [1, 2, 3], [7, 8, 9]]\n",
      "New list > [[2, 4, 6, 8], [1, 2, 3], [7, 8, 9]]\n"
     ]
    }
   ],
   "source": [
    "import copy #Shallow copy\n",
    "\n",
    "list1 = [[2,4,6,8],[1,2,3],[7,8,9]]\n",
    "shlist = copy.copy(list1)\n",
    "print(f\"\"\"Old list > {list1}\n",
    "New Shallow copy list > {shlist}\"\"\")"
   ]
  },
  {
   "cell_type": "code",
   "execution_count": 17,
   "id": "999e1265-d3ec-4dd0-abd3-7531b33ce93f",
   "metadata": {},
   "outputs": [
    {
     "name": "stdout",
     "output_type": "stream",
     "text": [
      "Old list > [[2, 4, 99, 8], [1, 2, 3], [7, 8, 9]]\n",
      "New Shallow copy list > [[2, 4, 99, 8], [1, 2, 3], [7, 8, 9]]\n"
     ]
    }
   ],
   "source": [
    "list1 = [[2,4,6,8],[1,2,3],[7,8,9]]\n",
    "shlist = copy.copy(list1)\n",
    "list1[0][2] = 99\n",
    "print(f\"\"\"Old list > {list1}\n",
    "New Shallow copy list > {shlist}\"\"\")"
   ]
  },
  {
   "cell_type": "code",
   "execution_count": 18,
   "id": "e01b7ab9-fe2d-4cc1-930e-2538a78fdb16",
   "metadata": {},
   "outputs": [
    {
     "name": "stdout",
     "output_type": "stream",
     "text": [
      "Old list >[[2, 4, 6, 8], [1, 2, 3], [7, 8, 9]]\n",
      "New Deep copy list > [[2, 4, 6, 8], [1, 2, 3], [7, 8, 9]]\n"
     ]
    }
   ],
   "source": [
    "import copy #Deep copy\n",
    "\n",
    "list1 = [[2,4,6,8],[1,2,3],[7,8,9]]\n",
    "dplist = copy.deepcopy(list1)\n",
    "print(f\"\"\"Old list >{list1}\n",
    "New Deep copy list > {dplist}\"\"\")"
   ]
  },
  {
   "cell_type": "code",
   "execution_count": 19,
   "id": "5bcf0ce7-c59d-44ab-8995-bfe09c11bc2f",
   "metadata": {},
   "outputs": [
    {
     "name": "stdout",
     "output_type": "stream",
     "text": [
      "Old list > [[2, 4, 99, 8], [1, 2, 3], [7, 8, 9]]\n",
      "New Deep copy list > [[2, 4, 6, 8], [1, 2, 3], [7, 8, 9]]\n"
     ]
    }
   ],
   "source": [
    "list1 = [[2,4,6,8],[1,2,3],[7,8,9]]\n",
    "dplist = copy.deepcopy(list1)\n",
    "list1[0][2] = 99\n",
    "print(f\"\"\"Old list > {list1}\n",
    "New Deep copy list > {dplist}\"\"\")"
   ]
  }
 ],
 "metadata": {
  "kernelspec": {
   "display_name": "Python 3 (ipykernel)",
   "language": "python",
   "name": "python3"
  },
  "language_info": {
   "codemirror_mode": {
    "name": "ipython",
    "version": 3
   },
   "file_extension": ".py",
   "mimetype": "text/x-python",
   "name": "python",
   "nbconvert_exporter": "python",
   "pygments_lexer": "ipython3",
   "version": "3.10.6"
  }
 },
 "nbformat": 4,
 "nbformat_minor": 5
}
