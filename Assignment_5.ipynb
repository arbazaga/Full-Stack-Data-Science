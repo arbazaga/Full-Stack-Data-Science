{
 "cells": [
  {
   "cell_type": "markdown",
   "id": "ae64b07c-723d-4e57-9138-7086bebd9f4a",
   "metadata": {},
   "source": [
    "**Assignment 5**\n",
    "\n",
    "*1. What does an empty dictionary's code look like?\n",
    "\n",
    "Here's the answer:"
   ]
  },
  {
   "cell_type": "code",
   "execution_count": 2,
   "id": "236b9885-8ad8-4ef5-bfcc-5ec37534ff1e",
   "metadata": {},
   "outputs": [
    {
     "data": {
      "text/plain": [
       "dict"
      ]
     },
     "execution_count": 2,
     "metadata": {},
     "output_type": "execute_result"
    }
   ],
   "source": [
    "emptydict = {}\n",
    "type(emptydict)"
   ]
  },
  {
   "cell_type": "markdown",
   "id": "025a5a8a-e7ef-419c-9206-ef639cedb4f3",
   "metadata": {},
   "source": [
    "*2. What is the value of a dictionary value with the key 'foo' and the value 42?*\n",
    "\n",
    "Here's the answer: 42"
   ]
  },
  {
   "cell_type": "code",
   "execution_count": 4,
   "id": "c9ebc07b-ae02-4dca-829f-9d1f4ee1ab5b",
   "metadata": {},
   "outputs": [
    {
     "data": {
      "text/plain": [
       "42"
      ]
     },
     "execution_count": 4,
     "metadata": {},
     "output_type": "execute_result"
    }
   ],
   "source": [
    "dict = {\"foo\":42}\n",
    "dict[\"foo\"]"
   ]
  },
  {
   "cell_type": "markdown",
   "id": "6ef442b1-fd48-4032-8bcf-d25c69d1e136",
   "metadata": {},
   "source": [
    "*3. What is the most significant distinction between a dictionary and a list?*\n",
    "\n",
    "Items in list are ordered, whereas for dictionary they are unordered, as indexes matter in list for accessing values, whereas it is key in dictionaries\n",
    "\n",
    "*4. What happens if you try to access spam['foo'] if spam is {'bar': 100}?\n",
    "\n",
    "You will recieve a keyerror. \n",
    "Example:"
   ]
  },
  {
   "cell_type": "code",
   "execution_count": 6,
   "id": "c2f9ee33-cbbc-43b8-909e-e10bcd87652b",
   "metadata": {},
   "outputs": [
    {
     "ename": "KeyError",
     "evalue": "'foo'",
     "output_type": "error",
     "traceback": [
      "\u001b[0;31m---------------------------------------------------------------------------\u001b[0m",
      "\u001b[0;31mKeyError\u001b[0m                                  Traceback (most recent call last)",
      "Cell \u001b[0;32mIn [6], line 2\u001b[0m\n\u001b[1;32m      1\u001b[0m spam \u001b[38;5;241m=\u001b[39m {\u001b[38;5;124m'\u001b[39m\u001b[38;5;124mbar\u001b[39m\u001b[38;5;124m'\u001b[39m: \u001b[38;5;241m100\u001b[39m}\n\u001b[0;32m----> 2\u001b[0m \u001b[43mspam\u001b[49m\u001b[43m[\u001b[49m\u001b[38;5;124;43m\"\u001b[39;49m\u001b[38;5;124;43mfoo\u001b[39;49m\u001b[38;5;124;43m\"\u001b[39;49m\u001b[43m]\u001b[49m\n",
      "\u001b[0;31mKeyError\u001b[0m: 'foo'"
     ]
    }
   ],
   "source": [
    "spam = {'bar': 100}\n",
    "spam[\"foo\"]"
   ]
  },
  {
   "cell_type": "markdown",
   "id": "4e975300-746c-4422-906c-173460802c71",
   "metadata": {},
   "source": [
    "*5. If a dictionary is stored in spam, what is the difference between the expressions 'cat' in spam and 'cat' in spam.keys?*\n",
    "\n",
    "Both check whether cat as a key is present in the dictionary\n",
    "Example:"
   ]
  },
  {
   "cell_type": "code",
   "execution_count": 2,
   "id": "ac060c91-8386-4681-9df8-77bd4754dbbe",
   "metadata": {},
   "outputs": [
    {
     "data": {
      "text/plain": [
       "True"
      ]
     },
     "execution_count": 2,
     "metadata": {},
     "output_type": "execute_result"
    }
   ],
   "source": [
    "spam = {'cat':456}\n",
    "\"cat\" in spam"
   ]
  },
  {
   "cell_type": "code",
   "execution_count": 3,
   "id": "a92f98ee-f0c8-4f87-a1f2-fd3572faaf72",
   "metadata": {},
   "outputs": [
    {
     "data": {
      "text/plain": [
       "True"
      ]
     },
     "execution_count": 3,
     "metadata": {},
     "output_type": "execute_result"
    }
   ],
   "source": [
    "'cat' in spam.keys()"
   ]
  },
  {
   "cell_type": "markdown",
   "id": "8f34274d-69ca-4a73-9519-f3140a70ee8b",
   "metadata": {},
   "source": [
    "*6. If a dictionary is stored in spam, what is the difference between the expressions 'cat' in spam and 'cat' in spam.values()?*\n",
    "\n",
    "'cat' in spam checks whether \"cat\" is present as a key in the spam dictionary, whereas cat' in spam.values() checks whether \"cat\" is present as a value in dictionary"
   ]
  },
  {
   "cell_type": "code",
   "execution_count": 4,
   "id": "13dd5c04-e2ca-4d1c-85dd-dd4428ab6528",
   "metadata": {},
   "outputs": [
    {
     "data": {
      "text/plain": [
       "True"
      ]
     },
     "execution_count": 4,
     "metadata": {},
     "output_type": "execute_result"
    }
   ],
   "source": [
    "spam = {'cat':456} #Checking for cat as a key\n",
    "\"cat\" in spam"
   ]
  },
  {
   "cell_type": "code",
   "execution_count": 5,
   "id": "1544e0d9-86b0-4427-8a97-31b4c953a07f",
   "metadata": {},
   "outputs": [
    {
     "data": {
      "text/plain": [
       "False"
      ]
     },
     "execution_count": 5,
     "metadata": {},
     "output_type": "execute_result"
    }
   ],
   "source": [
    "'cat' in spam.values() #Checking for cat as a value"
   ]
  },
  {
   "cell_type": "code",
   "execution_count": 6,
   "id": "9703c1ab-c4c6-4c4e-b5d0-841964789cbe",
   "metadata": {},
   "outputs": [
    {
     "data": {
      "text/plain": [
       "True"
      ]
     },
     "execution_count": 6,
     "metadata": {},
     "output_type": "execute_result"
    }
   ],
   "source": [
    "spam = {456:\"cat\"}    #Checking for cat as a value\n",
    "'cat' in spam.values()"
   ]
  },
  {
   "cell_type": "markdown",
   "id": "3987edbb-79f0-4db1-b6f3-f12d84679459",
   "metadata": {},
   "source": [
    "*7. What is a shortcut for the following code?*"
   ]
  },
  {
   "cell_type": "code",
   "execution_count": 12,
   "id": "71238300-68e8-4aba-96a6-7eadd0652c7a",
   "metadata": {},
   "outputs": [
    {
     "name": "stdout",
     "output_type": "stream",
     "text": [
      "{'cat': 100, 'color': 'black'}\n"
     ]
    }
   ],
   "source": [
    "spam ={'cat':100}\n",
    "if \"color\" not in spam :\n",
    " spam[\"color\"] = 'black'\n",
    " print(spam)"
   ]
  },
  {
   "cell_type": "markdown",
   "id": "e6e0c5e8-813c-4c80-9bcb-6bf736dee2ce",
   "metadata": {},
   "source": [
    "Here's the answer: Using the setdefault function"
   ]
  },
  {
   "cell_type": "code",
   "execution_count": 10,
   "id": "5d975888-03f5-4faf-90be-92735bb28b49",
   "metadata": {},
   "outputs": [
    {
     "data": {
      "text/plain": [
       "{'cat': 100, 'color': 'black'}"
      ]
     },
     "execution_count": 10,
     "metadata": {},
     "output_type": "execute_result"
    }
   ],
   "source": [
    "spam ={'cat':100}\n",
    "spam.setdefault('color','black')\n",
    "spam"
   ]
  },
  {
   "cell_type": "markdown",
   "id": "62c3e978-8228-4da4-901a-91320dfeb308",
   "metadata": {},
   "source": [
    "*8. How do you 'pretty print' dictionary values using which module and function?*"
   ]
  },
  {
   "cell_type": "markdown",
   "id": "9243f2ba-1dcf-424e-bf84-91db0f318ab6",
   "metadata": {},
   "source": [
    "By using pprint module and pprint function.\n",
    "Example"
   ]
  },
  {
   "cell_type": "code",
   "execution_count": 14,
   "id": "d18d7818-c6b5-41c3-89c7-80a902075f61",
   "metadata": {},
   "outputs": [],
   "source": [
    "dictionary = [{'YOE': '10', 'Company': 'Google', 'Name': 'Robert'},\n",
    " {'YOE': '14', 'Company': 'Meta', 'Name': 'Raj'},\n",
    " {'YOE': '19', 'Company': 'Uber', 'Name': 'Jonathon'},\n",
    " {'YOE': '25', 'Company': 'Amazon', 'Name': 'Arbaz'}]"
   ]
  },
  {
   "cell_type": "code",
   "execution_count": 18,
   "id": "d49ba340-b8b1-481b-978f-1a5cff23bcfd",
   "metadata": {},
   "outputs": [
    {
     "name": "stdout",
     "output_type": "stream",
     "text": [
      "[{'Company': 'Google', 'Name': 'Robert', 'YOE': '10'},\n",
      " {'Company': 'Meta', 'Name': 'Raj', 'YOE': '14'},\n",
      " {'Company': 'Uber', 'Name': 'Jonathon', 'YOE': '19'},\n",
      " {'Company': 'Amazon', 'Name': 'Arbaz', 'YOE': '25'}]\n"
     ]
    }
   ],
   "source": [
    "import pprint\n",
    "pprint.pprint(dictionary)   #Pretty Print"
   ]
  },
  {
   "cell_type": "code",
   "execution_count": 19,
   "id": "07d6f8b4-d2fd-47bc-823a-ee461ffcfec5",
   "metadata": {},
   "outputs": [
    {
     "name": "stdout",
     "output_type": "stream",
     "text": [
      "[{'YOE': '10', 'Company': 'Google', 'Name': 'Robert'}, {'YOE': '14', 'Company': 'Meta', 'Name': 'Raj'}, {'YOE': '19', 'Company': 'Uber', 'Name': 'Jonathon'}, {'YOE': '25', 'Company': 'Amazon', 'Name': 'Arbaz'}]\n"
     ]
    }
   ],
   "source": [
    "print(dictionary)   #Difference b/w print & pretty print"
   ]
  }
 ],
 "metadata": {
  "kernelspec": {
   "display_name": "Python 3 (ipykernel)",
   "language": "python",
   "name": "python3"
  },
  "language_info": {
   "codemirror_mode": {
    "name": "ipython",
    "version": 3
   },
   "file_extension": ".py",
   "mimetype": "text/x-python",
   "name": "python",
   "nbconvert_exporter": "python",
   "pygments_lexer": "ipython3",
   "version": "3.10.6"
  }
 },
 "nbformat": 4,
 "nbformat_minor": 5
}
