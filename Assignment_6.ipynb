{
 "cells": [
  {
   "cell_type": "markdown",
   "id": "4fe4a7a2-29f4-48eb-83a8-e453b33558c5",
   "metadata": {},
   "source": [
    "**Assignment 6*\n",
    "\n",
    "*1. What are escape characters, and how do you use them?*\n",
    "\n",
    "Escape characters are used to print characters in string values that show up as error, when you try to print them alone, Example:"
   ]
  },
  {
   "cell_type": "code",
   "execution_count": 1,
   "id": "141e664b-874e-46e5-b78f-ddfde0e39aea",
   "metadata": {},
   "outputs": [
    {
     "ename": "SyntaxError",
     "evalue": "incomplete input (1854938887.py, line 1)",
     "output_type": "error",
     "traceback": [
      "\u001b[0;36m  Cell \u001b[0;32mIn [1], line 1\u001b[0;36m\u001b[0m\n\u001b[0;31m    print('\\')  #Trying to print \\\u001b[0m\n\u001b[0m          ^\u001b[0m\n\u001b[0;31mSyntaxError\u001b[0m\u001b[0;31m:\u001b[0m incomplete input\n"
     ]
    }
   ],
   "source": [
    "print('\\')  #Trying to print \\"
   ]
  },
  {
   "cell_type": "code",
   "execution_count": 2,
   "id": "62768d35-caff-4103-aa36-e24c49141f08",
   "metadata": {},
   "outputs": [
    {
     "name": "stdout",
     "output_type": "stream",
     "text": [
      "\\\n"
     ]
    }
   ],
   "source": [
    "print(\"\\\\\") #Trying to print \" using escape character"
   ]
  },
  {
   "cell_type": "markdown",
   "id": "33ba79ee-2ca4-4e77-8d7c-c2fd2a2c8ec3",
   "metadata": {},
   "source": [
    "*2. What do the escape characters n and t stand for?*\n",
    "\n",
    "n and t stand for newline and tab respectively, Example:"
   ]
  },
  {
   "cell_type": "code",
   "execution_count": 3,
   "id": "e03c5f90-ac08-4b02-80c2-ba944846ccc8",
   "metadata": {},
   "outputs": [
    {
     "name": "stdout",
     "output_type": "stream",
     "text": [
      "Hello,\n",
      "My name is Arbaz\n"
     ]
    }
   ],
   "source": [
    "print(\"Hello,\\nMy name is Arbaz\")"
   ]
  },
  {
   "cell_type": "code",
   "execution_count": 4,
   "id": "c4f82630-bca5-4819-8c99-48476bd8bf54",
   "metadata": {},
   "outputs": [
    {
     "name": "stdout",
     "output_type": "stream",
     "text": [
      "Hello,\tMy name is Arbaz\n"
     ]
    }
   ],
   "source": [
    "print(\"Hello,\\tMy name is Arbaz\")"
   ]
  },
  {
   "cell_type": "markdown",
   "id": "417b20d0-9387-48be-a787-3bf5fb6146db",
   "metadata": {},
   "source": [
    "*3. What is the way to include backslash characters in a string?*\n",
    "\n",
    "By using \\\\ in the string to be printed, Example:"
   ]
  },
  {
   "cell_type": "code",
   "execution_count": 5,
   "id": "04ad2039-f2c5-4ef7-a094-be37dd0074c6",
   "metadata": {},
   "outputs": [
    {
     "name": "stdout",
     "output_type": "stream",
     "text": [
      "Tea\\Coffee\\Smoothie\n"
     ]
    }
   ],
   "source": [
    "print(\"Tea\\\\Coffee\\\\Smoothie\")"
   ]
  },
  {
   "cell_type": "markdown",
   "id": "a427a8ab-d44a-43ac-8626-b5b3752a1a89",
   "metadata": {},
   "source": [
    "*4. The string \"Howl's Moving Castle\" is a correct value. Why isn't the single quote character in the word Howl's not escaped a problem?*\n",
    "\n",
    "As you have used double quotes around the string, which is useful in printing single quotes and vice-versa, Example:"
   ]
  },
  {
   "cell_type": "code",
   "execution_count": 6,
   "id": "611b544c-e679-4059-b435-276af88e3428",
   "metadata": {},
   "outputs": [
    {
     "name": "stdout",
     "output_type": "stream",
     "text": [
      "Howl's Moving Castle\n"
     ]
    }
   ],
   "source": [
    "print(\"Howl's Moving Castle\")"
   ]
  },
  {
   "cell_type": "markdown",
   "id": "9dc9ac82-62a6-4325-bfda-ecc0d6811841",
   "metadata": {},
   "source": [
    "*5. How do you write a string of newlines if you don't want to use the n character?*\n",
    "\n",
    "By writing the strings in multiple lines, Example:"
   ]
  },
  {
   "cell_type": "code",
   "execution_count": 7,
   "id": "81fdc406-faca-422a-a6a1-a9b61c65f6a6",
   "metadata": {},
   "outputs": [
    {
     "name": "stdout",
     "output_type": "stream",
     "text": [
      "This is the first line\n",
      "This is the second line\n"
     ]
    }
   ],
   "source": [
    "print(\"This is the first line\")\n",
    "print(\"This is the second line\")"
   ]
  },
  {
   "cell_type": "markdown",
   "id": "60ee5972-e3b1-456c-96fe-e13a041c55d5",
   "metadata": {},
   "source": [
    "*5. What are the values of the given expressions?*"
   ]
  },
  {
   "cell_type": "code",
   "execution_count": 8,
   "id": "a2707dc4-8959-4075-a768-bef97f629e78",
   "metadata": {},
   "outputs": [
    {
     "data": {
      "text/plain": [
       "'e'"
      ]
     },
     "execution_count": 8,
     "metadata": {},
     "output_type": "execute_result"
    }
   ],
   "source": [
    "'Hello, world!'[1] #Answer is 'e'"
   ]
  },
  {
   "cell_type": "code",
   "execution_count": 9,
   "id": "51a3a4d4-b344-4c7d-8bf7-2d9c992f4a44",
   "metadata": {},
   "outputs": [
    {
     "data": {
      "text/plain": [
       "'Hello'"
      ]
     },
     "execution_count": 9,
     "metadata": {},
     "output_type": "execute_result"
    }
   ],
   "source": [
    "'Hello, world!'[0:5] #Answer is 'Hello'"
   ]
  },
  {
   "cell_type": "code",
   "execution_count": 10,
   "id": "4b0cb7d2-19a5-40ac-bd64-96dcda0e7567",
   "metadata": {},
   "outputs": [
    {
     "data": {
      "text/plain": [
       "'Hello'"
      ]
     },
     "execution_count": 10,
     "metadata": {},
     "output_type": "execute_result"
    }
   ],
   "source": [
    "'Hello, world!'[:5] #Answer is 'Hello'"
   ]
  },
  {
   "cell_type": "code",
   "execution_count": 11,
   "id": "9c5d3bc7-3ee5-441b-94a6-f2321d4f82a4",
   "metadata": {},
   "outputs": [
    {
     "data": {
      "text/plain": [
       "'lo, world!'"
      ]
     },
     "execution_count": 11,
     "metadata": {},
     "output_type": "execute_result"
    }
   ],
   "source": [
    "'Hello, world!'[3:]  #Answer is 'lo, world!'"
   ]
  },
  {
   "cell_type": "markdown",
   "id": "e166d548-a9d0-4774-a4c7-5744c00aef80",
   "metadata": {},
   "source": [
    "*7. What are the values of the following expressions?*"
   ]
  },
  {
   "cell_type": "code",
   "execution_count": 12,
   "id": "a3980b87-d7b4-46eb-8498-a729a3bd03f0",
   "metadata": {},
   "outputs": [
    {
     "data": {
      "text/plain": [
       "'HELLO'"
      ]
     },
     "execution_count": 12,
     "metadata": {},
     "output_type": "execute_result"
    }
   ],
   "source": [
    "'Hello'.upper() #Answer is 'HELLO'"
   ]
  },
  {
   "cell_type": "code",
   "execution_count": 13,
   "id": "03dc8404-f958-4149-b509-54030533e512",
   "metadata": {},
   "outputs": [
    {
     "data": {
      "text/plain": [
       "True"
      ]
     },
     "execution_count": 13,
     "metadata": {},
     "output_type": "execute_result"
    }
   ],
   "source": [
    "'Hello'.upper().isupper()  #Answer is True"
   ]
  },
  {
   "cell_type": "code",
   "execution_count": 14,
   "id": "ab8628b3-c062-4e75-827b-1c15a251dc77",
   "metadata": {},
   "outputs": [
    {
     "data": {
      "text/plain": [
       "'hello'"
      ]
     },
     "execution_count": 14,
     "metadata": {},
     "output_type": "execute_result"
    }
   ],
   "source": [
    "'Hello'.upper().lower()  #Answer is 'hello'"
   ]
  },
  {
   "cell_type": "markdown",
   "id": "092fa79f-94e0-423b-90a5-646c4aa0de26",
   "metadata": {},
   "source": [
    "*8. What are the values of the following expressions?*"
   ]
  },
  {
   "cell_type": "code",
   "execution_count": 15,
   "id": "81a056cd-b264-4e75-9e22-a51190527191",
   "metadata": {},
   "outputs": [
    {
     "data": {
      "text/plain": [
       "['Remember,', 'remember,', 'the', 'fifth', 'of', 'July.']"
      ]
     },
     "execution_count": 15,
     "metadata": {},
     "output_type": "execute_result"
    }
   ],
   "source": [
    "'Remember, remember, the fifth of July.'.split()\n",
    "#Answer is ['Remember,', 'remember,', 'the', 'fifth', 'of', 'July.']"
   ]
  },
  {
   "cell_type": "code",
   "execution_count": 16,
   "id": "adc3d89e-cf5d-44df-a041-1773443bf09b",
   "metadata": {},
   "outputs": [
    {
     "data": {
      "text/plain": [
       "'There-can-only-one.'"
      ]
     },
     "execution_count": 16,
     "metadata": {},
     "output_type": "execute_result"
    }
   ],
   "source": [
    "'-'.join('There can only one.'.split())\n",
    "#Answer is 'There-can-only-one.'"
   ]
  },
  {
   "cell_type": "markdown",
   "id": "e0e4db5d-bd9d-49e7-9bee-5d9fd1a5829e",
   "metadata": {},
   "source": [
    "*9. What are the methods for right-justifying, left-justifying, and centering a string?*\n",
    "\n",
    "Using rjust(no.of_total_char,char in remaining_positions), \n",
    "ljust(no.of_total_char,char in remaining_positions), and \n",
    "center(no.of_total_char,char in remaining_positions) respectively, Example:"
   ]
  },
  {
   "cell_type": "code",
   "execution_count": 17,
   "id": "3ea05256-560e-4e61-9f3f-78da9a9406c8",
   "metadata": {},
   "outputs": [
    {
     "data": {
      "text/plain": [
       "'Arbaz**'"
      ]
     },
     "execution_count": 17,
     "metadata": {},
     "output_type": "execute_result"
    }
   ],
   "source": [
    "name =\"Arbaz\"\n",
    "name.ljust(7,\"*\")  #Using ljust"
   ]
  },
  {
   "cell_type": "code",
   "execution_count": 18,
   "id": "e082f612-f77e-4991-9cf6-8bc6dc0f5ac2",
   "metadata": {},
   "outputs": [
    {
     "data": {
      "text/plain": [
       "'**Arbaz'"
      ]
     },
     "execution_count": 18,
     "metadata": {},
     "output_type": "execute_result"
    }
   ],
   "source": [
    "name =\"Arbaz\"\n",
    "name.rjust(7,\"*\")  #Using rjust()"
   ]
  },
  {
   "cell_type": "code",
   "execution_count": 19,
   "id": "33063a89-ec45-4dd0-a31a-58ef8a7a2977",
   "metadata": {},
   "outputs": [
    {
     "data": {
      "text/plain": [
       "'*Arbaz*'"
      ]
     },
     "execution_count": 19,
     "metadata": {},
     "output_type": "execute_result"
    }
   ],
   "source": [
    "name =\"Arbaz\"\n",
    "name.center(7,\"*\")  #Using center()"
   ]
  },
  {
   "cell_type": "markdown",
   "id": "5cafee79-99d8-42e5-8b85-59258a5e1530",
   "metadata": {},
   "source": [
    "*10. *What is the best way to remove whitespace characters from the start or end?*\n",
    "\n",
    "Using lstrip() and rstrip() respectively, Example:"
   ]
  },
  {
   "cell_type": "code",
   "execution_count": 20,
   "id": "1ac01ab2-88f5-40d2-8372-2e3cc893626f",
   "metadata": {},
   "outputs": [
    {
     "data": {
      "text/plain": [
       "'My name is Arbaz      '"
      ]
     },
     "execution_count": 20,
     "metadata": {},
     "output_type": "execute_result"
    }
   ],
   "source": [
    "sent = \"        My name is Arbaz      \"\n",
    "sent.lstrip()   #Using lstrip()"
   ]
  },
  {
   "cell_type": "code",
   "execution_count": 21,
   "id": "f271c008-06db-40d5-96e5-e9620be04718",
   "metadata": {},
   "outputs": [
    {
     "data": {
      "text/plain": [
       "'        My name is Arbaz'"
      ]
     },
     "execution_count": 21,
     "metadata": {},
     "output_type": "execute_result"
    }
   ],
   "source": [
    "sent = \"        My name is Arbaz      \"\n",
    "sent.rstrip()   #Using rstrip()"
   ]
  }
 ],
 "metadata": {
  "kernelspec": {
   "display_name": "Python 3 (ipykernel)",
   "language": "python",
   "name": "python3"
  },
  "language_info": {
   "codemirror_mode": {
    "name": "ipython",
    "version": 3
   },
   "file_extension": ".py",
   "mimetype": "text/x-python",
   "name": "python",
   "nbconvert_exporter": "python",
   "pygments_lexer": "ipython3",
   "version": "3.10.6"
  }
 },
 "nbformat": 4,
 "nbformat_minor": 5
}
