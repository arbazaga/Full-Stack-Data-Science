{
 "cells": [
  {
   "cell_type": "code",
   "execution_count": null,
   "id": "1fcaa976-8197-4de3-afb2-9df05a7ea285",
   "metadata": {},
   "outputs": [],
   "source": [
    "1.What are the two values of the Boolean data type? How do you write them?\n",
    "True and False, with T and F as capital\n",
    "Example:"
   ]
  },
  {
   "cell_type": "code",
   "execution_count": 1,
   "id": "fd021c0e-904a-4d47-9fe9-4057cdc1fe33",
   "metadata": {},
   "outputs": [
    {
     "data": {
      "text/plain": [
       "True"
      ]
     },
     "execution_count": 1,
     "metadata": {},
     "output_type": "execute_result"
    }
   ],
   "source": [
    "21 > 17"
   ]
  },
  {
   "cell_type": "code",
   "execution_count": 2,
   "id": "a6fe690e-32df-459f-8a57-9860b1a45fea",
   "metadata": {},
   "outputs": [
    {
     "data": {
      "text/plain": [
       "False"
      ]
     },
     "execution_count": 2,
     "metadata": {},
     "output_type": "execute_result"
    }
   ],
   "source": [
    "21 < 17"
   ]
  },
  {
   "cell_type": "code",
   "execution_count": null,
   "id": "91c6cd64-423f-4ba2-a55e-9c3394b94be8",
   "metadata": {},
   "outputs": [],
   "source": [
    "2. What are the three different types of Boolean operators?\n",
    "AND, OR and NOT\n",
    "Example:"
   ]
  },
  {
   "cell_type": "code",
   "execution_count": 3,
   "id": "343e2a64-6420-42e4-8ac9-c7cbfb191adb",
   "metadata": {},
   "outputs": [
    {
     "name": "stdout",
     "output_type": "stream",
     "text": [
      "False\n",
      "True\n",
      "False\n"
     ]
    }
   ],
   "source": [
    "a = 21 > 17\n",
    "b = 21 > 56\n",
    "print(a and b)\n",
    "print(a or b)\n",
    "print(not a)"
   ]
  },
  {
   "cell_type": "code",
   "execution_count": null,
   "id": "3c4ced3b-6c62-4d39-be45-110d0e60f366",
   "metadata": {},
   "outputs": [],
   "source": [
    "###\n",
    "3. Make a list of each Boolean operator's truth tables (i.e. every possible combination of Boolean\n",
    "values for the operator and what it evaluate)."
   ]
  },
  {
   "cell_type": "code",
   "execution_count": 6,
   "id": "bd8b834a-6e95-47bd-8830-3ec68a5d0cc2",
   "metadata": {},
   "outputs": [
    {
     "name": "stdout",
     "output_type": "stream",
     "text": [
      "True and True is True\n",
      "True and false is False\n",
      "False and false is False\n",
      "True or true is True\n",
      "True or False is True\n",
      "False or false is False\n",
      "Not true is False\n",
      "Not false is True\n",
      "\n"
     ]
    }
   ],
   "source": [
    "a = True\n",
    "b = False\n",
    "print(f\"\"\"True and True is {a and a}\n",
    "True and false is {a and b}\n",
    "False and false is {b and b}\n",
    "True or true is {a or a}\n",
    "True or False is {a or b}\n",
    "False or false is {b or b}\n",
    "Not true is {not a}\n",
    "Not false is {not b}\n",
    "\"\"\")\n"
   ]
  },
  {
   "cell_type": "code",
   "execution_count": null,
   "id": "58242c86-e839-47bf-84b0-6b37eb65df49",
   "metadata": {},
   "outputs": [],
   "source": [
    "4. What are the values of the following expressions?\n",
    "(5 > 4) and (3 == 5) --> False \n",
    "not (5 > 4) -->\n",
    "(5 > 4) or (3 == 5) -->\n",
    "not ((5 > 4) or (3 == 5)) -->\n",
    "(True and True) and (True == False) --> \n",
    "(not False) or (not True) --> "
   ]
  },
  {
   "cell_type": "code",
   "execution_count": 9,
   "id": "164e1fad-43d7-499d-936b-54e64cd8800c",
   "metadata": {},
   "outputs": [
    {
     "name": "stdout",
     "output_type": "stream",
     "text": [
      "False\n",
      "False\n",
      "True\n",
      "False\n",
      "False\n",
      "True\n"
     ]
    }
   ],
   "source": [
    "print(f'''{(5 > 4) and (3 == 5)}\n",
    "{not (5 > 4)}\n",
    "{(5 > 4) or (3 == 5)}\n",
    "{not ((5 > 4) or (3 == 5))}\n",
    "{(True and True) and (True == False)}\n",
    "{(not False) or (not True)}''')"
   ]
  },
  {
   "cell_type": "code",
   "execution_count": null,
   "id": "34dddd76-1c15-41fd-b52d-a6771d2b2083",
   "metadata": {},
   "outputs": [],
   "source": [
    "5. What are the six comparison operators?\n",
    "The six different types of com operators are : ==, !=, <, >, <=, and >=.\n",
    "\n",
    "6. How do you tell the difference between the equal to and assignment operators?Describe a condition and when you would use one.\n",
    "The equal to operator has 2 equal to signs, whereas assignment operators have one equal to sign.\n",
    "Example:"
   ]
  },
  {
   "cell_type": "code",
   "execution_count": 1,
   "id": "56c0d36a-2c91-42b3-b0bb-84a0be69bd82",
   "metadata": {},
   "outputs": [
    {
     "name": "stdout",
     "output_type": "stream",
     "text": [
      "True\n"
     ]
    }
   ],
   "source": [
    "a = \"arbaz\"\n",
    "b = \"arbaz\"\n",
    "#Here assignment operator is being used to assign \"arbaz\" value to variable a and b\n",
    "print(a == b)\n",
    "#Equal to operator is being used to check whether both variables have the same value"
   ]
  },
  {
   "cell_type": "code",
   "execution_count": null,
   "id": "eab0bf92-85cb-42c6-b431-adde4c26e21b",
   "metadata": {},
   "outputs": [],
   "source": [
    "7. Identify the three blocks in this code:\n",
    "spam = 0\n",
    "if spam == 10:  #First if block\n",
    "print('eggs')\n",
    "if spam > 5:    #Second if block\n",
    "print('bacon')\n",
    "else:          #Third else block\n",
    "print('ham')\n",
    "print('spam')\n",
    "print('spam')\n",
    "\n"
   ]
  },
  {
   "cell_type": "code",
   "execution_count": 2,
   "id": "8733e639-58f5-459a-88b9-0f195f10d250",
   "metadata": {},
   "outputs": [
    {
     "name": "stdout",
     "output_type": "stream",
     "text": [
      "ham\n",
      "spam\n",
      "spam\n"
     ]
    }
   ],
   "source": [
    "spam = 0\n",
    "if spam == 10:\n",
    " print('eggs')\n",
    "if spam > 5:\n",
    " print('bacon')\n",
    "else:\n",
    " print('ham')\n",
    " print('spam')\n",
    " print('spam')"
   ]
  },
  {
   "cell_type": "code",
   "execution_count": null,
   "id": "19f155df-01d0-4abf-87f1-fb8244a2fe83",
   "metadata": {},
   "outputs": [],
   "source": [
    "8. Write code that prints Hello if 1 is stored in spam, prints Howdy if 2 is stored in spam, and prints\n",
    "Greetings! if anything else is stored in spam."
   ]
  },
  {
   "cell_type": "code",
   "execution_count": 15,
   "id": "ec2f6e56-bbe9-4c4e-9cb3-d76b89c87eec",
   "metadata": {},
   "outputs": [
    {
     "name": "stdin",
     "output_type": "stream",
     "text": [
      "Enter a number:  3\n"
     ]
    },
    {
     "name": "stdout",
     "output_type": "stream",
     "text": [
      "Greetings!\n"
     ]
    }
   ],
   "source": [
    "spam = str(input(\"Enter a number: \"))\n",
    "if spam == \"1\":\n",
    "    print(\"Hello\")\n",
    "elif spam == \"2\":\n",
    "    print(\"Howdy\")\n",
    "else:\n",
    "    print(\"Greetings!\")"
   ]
  },
  {
   "cell_type": "code",
   "execution_count": null,
   "id": "4bfa1d64-58c6-478d-9584-cb77445b8aca",
   "metadata": {},
   "outputs": [],
   "source": [
    "9.If your programme is stuck in an endless loop, what keys you’ll press?\n",
    "ctrl + C\n",
    "\n",
    "10. How can you tell the difference between break and continue?\n",
    "Break gets you out of the innermost loop, we are in and continue gets you to the next iteration of the loop.\n",
    "Example:"
   ]
  },
  {
   "cell_type": "code",
   "execution_count": 18,
   "id": "a826ccd5-e349-4dac-97a9-6cdc0c8d604e",
   "metadata": {},
   "outputs": [
    {
     "name": "stdout",
     "output_type": "stream",
     "text": [
      "a\n",
      "r\n",
      "b\n",
      "a\n",
      "a\n"
     ]
    }
   ],
   "source": [
    "for i in \"arbazaga\":\n",
    " if i == \"z\":\n",
    "    continue\n",
    " if i == \"g\":\n",
    "    break\n",
    " print(i)\n"
   ]
  },
  {
   "cell_type": "code",
   "execution_count": null,
   "id": "5c38b702-6f09-4503-a57e-21d716de7fbb",
   "metadata": {},
   "outputs": [],
   "source": [
    "11. In a for loop, what is the difference between range(10), range(0, 10), and range(0, 10, 1)?\n",
    "They all do the same thing, as the"
   ]
  },
  {
   "cell_type": "code",
   "execution_count": 27,
   "id": "8deeb134-514b-4ed3-a3b4-c62a7dbeebb3",
   "metadata": {},
   "outputs": [
    {
     "name": "stdout",
     "output_type": "stream",
     "text": [
      "0\n",
      "1\n",
      "2\n",
      "3\n",
      "4\n",
      "5\n",
      "6\n",
      "7\n",
      "8\n",
      "9\n",
      "0\n",
      "1\n",
      "2\n",
      "3\n",
      "4\n",
      "5\n",
      "6\n",
      "7\n",
      "8\n",
      "9\n",
      "0\n",
      "1\n",
      "2\n",
      "3\n",
      "4\n",
      "5\n",
      "6\n",
      "7\n",
      "8\n",
      "9\n"
     ]
    }
   ],
   "source": [
    "for i in range(10):\n",
    "    print(i)\n",
    "for i in range(0,10):\n",
    "    print(i)\n",
    "for i in range(0,10,1):\n",
    "    print(i)\n",
    "     "
   ]
  },
  {
   "cell_type": "code",
   "execution_count": null,
   "id": "bec020bb-6cf7-476b-a69d-b2785a59d56f",
   "metadata": {},
   "outputs": [],
   "source": [
    "12. Write a short program that prints the numbers 1 to 10 using a for loop. Then write an equivalent\n",
    "program that prints the numbers 1 to 10 using a while loop."
   ]
  },
  {
   "cell_type": "code",
   "execution_count": 29,
   "id": "ca2f7d7a-fe4d-4a2a-9972-71cb0546ee48",
   "metadata": {},
   "outputs": [
    {
     "name": "stdout",
     "output_type": "stream",
     "text": [
      "1\n",
      "2\n",
      "3\n",
      "4\n",
      "5\n",
      "6\n",
      "7\n",
      "8\n",
      "9\n",
      "10\n"
     ]
    }
   ],
   "source": [
    "for i in range(1,11):\n",
    "    print(i)"
   ]
  },
  {
   "cell_type": "code",
   "execution_count": 31,
   "id": "fe1af3bb-0e96-4587-809b-1d0692271640",
   "metadata": {},
   "outputs": [
    {
     "name": "stdout",
     "output_type": "stream",
     "text": [
      "1\n",
      "2\n",
      "3\n",
      "4\n",
      "5\n",
      "6\n",
      "7\n",
      "8\n",
      "9\n",
      "10\n"
     ]
    }
   ],
   "source": [
    "i = 1\n",
    "while i < 11:\n",
    "    print(i)\n",
    "    i = i+1\n"
   ]
  },
  {
   "cell_type": "code",
   "execution_count": null,
   "id": "378763c9-a269-4e62-b9b4-58c703b4b1c6",
   "metadata": {},
   "outputs": [],
   "source": [
    "13. If you had a function named bacon() inside a module named spam, how would you call it after\n",
    "importing spam?\n",
    "\n",
    "spam.bacon() #If a module named spam would exist, with a function named bacon, this would be used to call it."
   ]
  },
  {
   "cell_type": "code",
   "execution_count": null,
   "id": "a96d9af8-04f8-417b-b11a-3a60614cfa24",
   "metadata": {},
   "outputs": [],
   "source": []
  }
 ],
 "metadata": {
  "kernelspec": {
   "display_name": "Python 3 (ipykernel)",
   "language": "python",
   "name": "python3"
  },
  "language_info": {
   "codemirror_mode": {
    "name": "ipython",
    "version": 3
   },
   "file_extension": ".py",
   "mimetype": "text/x-python",
   "name": "python",
   "nbconvert_exporter": "python",
   "pygments_lexer": "ipython3",
   "version": "3.10.6"
  }
 },
 "nbformat": 4,
 "nbformat_minor": 5
}
